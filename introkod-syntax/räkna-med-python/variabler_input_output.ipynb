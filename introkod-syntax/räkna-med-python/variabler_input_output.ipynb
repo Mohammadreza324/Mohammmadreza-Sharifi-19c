{
 "metadata": {
  "language_info": {
   "codemirror_mode": {
    "name": "ipython",
    "version": 3
   },
   "file_extension": ".py",
   "mimetype": "text/x-python",
   "name": "python",
   "nbconvert_exporter": "python",
   "pygments_lexer": "ipython3",
   "version": "3.8.3-final"
  },
  "orig_nbformat": 2,
  "kernelspec": {
   "name": "python_defaultSpec_1599649809985",
   "display_name": "Python 3.8.3 64-bit ('Mohammedreza.sharif': virtualenv)"
  }
 },
 "nbformat": 4,
 "nbformat_minor": 2,
 "cells": [
  {
   "cell_type": "markdown",
   "metadata": {},
   "source": [
    "tyngd kraft \n",
    "\n",
    "f=mg"
   ]
  },
  {
   "cell_type": "code",
   "execution_count": 7,
   "metadata": {
    "tags": []
   },
   "outputs": [
    {
     "output_type": "stream",
     "name": "stdout",
     "text": "din tyngdkraft är 540.1N\ndin tyngdkraft är 540.1 N\n"
    }
   ],
   "source": [
    "# skapar en variabel g och tilldelar det värdet 9.82\n",
    "g = 9.82\n",
    "m = float(input(\"Hur mycket väger du? \"))\n",
    "\n",
    "f= m*g\n",
    "print(f\"din tyngdkraft är {f}N\") #F-STRING Är för att blanda text och varibler \n",
    "print(\"din tyngdkraft är\",f,\"N\") "
   ]
  },
  {
   "cell_type": "markdown",
   "metadata": {},
   "source": [
    "PROCENT \n",
    "\n",
    "-FRÅGA ANVÄNDAREN OM ETT DECIMAL TAL\n",
    "\n",
    "-AMVANDLA TALET TILL DECIMAL TAL"
   ]
  },
  {
   "cell_type": "code",
   "execution_count": 11,
   "metadata": {
    "tags": []
   },
   "outputs": [
    {
     "output_type": "stream",
     "name": "stdout",
     "text": "0.44 = 44%\n0.44 = 44 %\n"
    }
   ],
   "source": [
    "decimaltal = float(input(\"ange en decimal tal: \"))\n",
    "procent = decimaltal*100\n",
    "print(f\"{decimaltal} = {procent:.0f}%\")\n",
    "print(decimaltal,\"=\", round(procent),\"%\")"
   ]
  },
  {
   "cell_type": "markdown",
   "metadata": {},
   "source": [
    "kelvin ---> celsius"
   ]
  },
  {
   "cell_type": "code",
   "execution_count": 10,
   "metadata": {
    "tags": []
   },
   "outputs": [
    {
     "output_type": "stream",
     "name": "stdout",
     "text": "20.0  kelvin är -253 grader celsius\n"
    }
   ],
   "source": [
    "kelvin = float(input(\"ge en temperatur i kelvin:\")) # kommentar\n",
    "celcius = kelvin - 273.15\n",
    "print(kelvin,\" kelvin är\",round(celcius),\"grader celsius\")"
   ]
  },
  {
   "cell_type": "markdown",
   "metadata": {},
   "source": [
    "celsius------> kelvin"
   ]
  },
  {
   "cell_type": "code",
   "execution_count": 6,
   "metadata": {
    "tags": []
   },
   "outputs": [
    {
     "output_type": "stream",
     "name": "stdout",
     "text": "30.0 är 303 kelvin\n"
    }
   ],
   "source": [
    "celsius = float(input(\"temperturen i celsius\"))\n",
    "kelvin = celsius + 273.15\n",
    "print(celsius, \"är\",round(kelvin),\"kelvin\")"
   ]
  },
  {
   "cell_type": "markdown",
   "metadata": {},
   "source": [
    "vässtrafik"
   ]
  },
  {
   "cell_type": "code",
   "execution_count": 13,
   "metadata": {
    "tags": []
   },
   "outputs": [
    {
     "output_type": "stream",
     "name": "stdout",
     "text": "300.0 kr\ndet är inte värt att köpa månadskort\n"
    }
   ],
   "source": [
    "antal_engångsbiljett = float(input(\"antal gånger du åker under en månad: \"))\n",
    "engångsbiljett = 30\n",
    "en_månad = antal_engångsbiljett * engångsbiljett\n",
    "månadskort = 775\n",
    "print(en_månad,\"kr\")\n",
    "if (en_månad < 775):\n",
    "    print(\"det är inte värt att köpa månadskort\")\n",
    "else:\n",
    "    print(\"det är värt att köpa månadskort\")"
   ]
  },
  {
   "cell_type": "code",
   "execution_count": null,
   "metadata": {},
   "outputs": [],
   "source": []
  }
 ]
}