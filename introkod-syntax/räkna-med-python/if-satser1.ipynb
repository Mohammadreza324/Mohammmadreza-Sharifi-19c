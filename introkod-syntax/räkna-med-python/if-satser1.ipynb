{
 "metadata": {
  "language_info": {
   "codemirror_mode": {
    "name": "ipython",
    "version": 3
   },
   "file_extension": ".py",
   "mimetype": "text/x-python",
   "name": "python",
   "nbconvert_exporter": "python",
   "pygments_lexer": "ipython3",
   "version": "3.8.3-final"
  },
  "orig_nbformat": 2,
  "kernelspec": {
   "name": "python_defaultSpec_1599807881062",
   "display_name": "Python 3.8.3 64-bit ('base': conda)"
  }
 },
 "nbformat": 4,
 "nbformat_minor": 2,
 "cells": [
  {
   "cell_type": "markdown",
   "metadata": {},
   "source": [
    "# jämnt eller udda \n",
    "* läs in ett tal och checka om det är jämnt eller udda"
   ]
  },
  {
   "cell_type": "code",
   "execution_count": 1,
   "metadata": {
    "tags": []
   },
   "outputs": [
    {
     "output_type": "stream",
     "name": "stdout",
     "text": "talet är udda\n"
    }
   ],
   "source": [
    "tal = int(input(\"Ange ett hel  tal\"))\n",
    "if tal % 2 == 0:\n",
    "    print(\"talet är jämnt\")\n",
    "else:\n",
    "    print(\"talet är udda\")"
   ]
  },
  {
   "cell_type": "markdown",
   "metadata": {},
   "source": [
    "# triangels vinkel \n",
    "*soetsig\n",
    "\n",
    "*rät\n",
    "\n",
    "*trubbig\n",
    "\n",
    "*annat"
   ]
  },
  {
   "cell_type": "code",
   "execution_count": 6,
   "metadata": {
    "tags": []
   },
   "outputs": [
    {
     "output_type": "stream",
     "name": "stdout",
     "text": "vinkel är spetsig\n"
    }
   ],
   "source": [
    "vinkel = float(input(\"ange en vinkel v i grader 0 <= v <= 360 :\"))\n",
    "\n",
    "if vinkel < 90 and vinkel >= 0:\n",
    "    print (\"vinkel är spetsig\")\n",
    "elif vinkel == 90:\n",
    "    print(\"vinkel är rät\")\n",
    "elif vinkel > 90 and vinel < 180:\n",
    "    print(\"vinkel är spetsig\") \n",
    "else:\n",
    "    print(\"annat\")"
   ]
  },
  {
   "cell_type": "code",
   "execution_count": 13,
   "metadata": {
    "tags": []
   },
   "outputs": [
    {
     "output_type": "stream",
     "name": "stdout",
     "text": "talet är 0\n"
    }
   ],
   "source": [
    "tal = int(input(\"skriv ett tal\"))\n",
    "if tal < 0:\n",
    "    print(\"talet är negativ\") \n",
    "elif tal > 0:\n",
    "    print (\"talet är posittiv\")\n",
    "elif tal == 0:\n",
    "    print(\"talet är 0\")"
   ]
  },
  {
   "cell_type": "code",
   "execution_count": null,
   "metadata": {},
   "outputs": [],
   "source": []
  }
 ]
}