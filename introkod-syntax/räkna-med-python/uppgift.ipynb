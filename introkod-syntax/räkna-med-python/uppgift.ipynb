{
 "metadata": {
  "language_info": {
   "codemirror_mode": {
    "name": "ipython",
    "version": 3
   },
   "file_extension": ".py",
   "mimetype": "text/x-python",
   "name": "python",
   "nbconvert_exporter": "python",
   "pygments_lexer": "ipython3",
   "version": "3.8.3-final"
  },
  "orig_nbformat": 2,
  "kernelspec": {
   "name": "python_defaultSpec_1599045897979",
   "display_name": "Python 3.8.3 64-bit ('base': conda)"
  }
 },
 "nbformat": 4,
 "nbformat_minor": 2,
 "cells": [
  {
   "cell_type": "code",
   "execution_count": 7,
   "metadata": {
    "tags": []
   },
   "outputs": [
    {
     "output_type": "stream",
     "name": "stdout",
     "text": "Det kostar 499.0 kr.\n98.44\n"
    }
   ],
   "source": [
    "# uppgift 1\n",
    "Antal_timmar = float(input(\"hur många timmar vill du träna?\"))\n",
    "print(\"Det kostar\", 499 * Antal_timmar, \"kr.\")\n",
    "print(round(98.444434334, 2))"
   ]
  },
  {
   "cell_type": "code",
   "execution_count": 6,
   "metadata": {
    "tags": []
   },
   "outputs": [
    {
     "output_type": "error",
     "ename": "SyntaxError",
     "evalue": "invalid syntax (<ipython-input-6-e94d6028fce1>, line 2)",
     "traceback": [
      "\u001b[1;36m  File \u001b[1;32m\"<ipython-input-6-e94d6028fce1>\"\u001b[1;36m, line \u001b[1;32m2\u001b[0m\n\u001b[1;33m    print(round(print((\"det kostar\", 499 * antal_timmar,\"kr.\",) 2)))\u001b[0m\n\u001b[1;37m                                                                ^\u001b[0m\n\u001b[1;31mSyntaxError\u001b[0m\u001b[1;31m:\u001b[0m invalid syntax\n"
     ]
    }
   ],
   "source": [
    "antal_timmar = float(input(\"hur många timmat vill du träna?\"))\n",
    "print(round(print((\"det kostar\", 499 * antal_timmar,\"kr.\",) 2)))"
   ]
  }
 ]
}