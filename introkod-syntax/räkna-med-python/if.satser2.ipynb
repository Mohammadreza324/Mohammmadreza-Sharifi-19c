{
 "metadata": {
  "language_info": {
   "codemirror_mode": {
    "name": "ipython",
    "version": 3
   },
   "file_extension": ".py",
   "mimetype": "text/x-python",
   "name": "python",
   "nbconvert_exporter": "python",
   "pygments_lexer": "ipython3",
   "version": "3.8.3-final"
  },
  "orig_nbformat": 2,
  "kernelspec": {
   "name": "python_defaultSpec_1600254695456",
   "display_name": "Python 3.8.3 64-bit ('base': conda)"
  }
 },
 "nbformat": 4,
 "nbformat_minor": 2,
 "cells": [
  {
   "cell_type": "code",
   "execution_count": 50,
   "metadata": {
    "tags": []
   },
   "outputs": [
    {
     "output_type": "stream",
     "name": "stdout",
     "text": "talet är positivt\n"
    }
   ],
   "source": [
    "tal = int(float(input(\"ge mig ett nummer:\")))\n",
    "if tal < 0 :\n",
    "    print(\"talet är negativ\")\n",
    "elif tal > 0:\n",
    "    print(\"talet är positivt\")\n",
    "else:\n",
    "    print(\"talet är noll\")"
   ]
  },
  {
   "cell_type": "code",
   "execution_count": 52,
   "metadata": {
    "tags": []
   },
   "outputs": [
    {
     "output_type": "stream",
     "name": "stdout",
     "text": "vinkelsumman 270\ndet är ingen triangel\n"
    }
   ],
   "source": [
    "a = int(input(\"hur mycket ska vinkel a vara?\"))\n",
    "x = int(input(\"hur mycket ska vinkel x vara?\"))\n",
    "b = int(input(\"hur mycket ska vinkel b vara?\"))\n",
    "vinkelsumman = a + x + b \n",
    "print(f\"vinkelsumman {vinkelsumman}\")\n",
    "if vinkelsumman != 180:\n",
    "    print(\"det är ingen triangel\") \n",
    "else:\n",
    "    if a or x or b == 90:\n",
    "        print(\"din är rätvinkel\")\n",
    "    else:\n",
    "        print(\"din är inte rätvinkel\")    "
   ]
  },
  {
   "cell_type": "code",
   "execution_count": null,
   "metadata": {},
   "outputs": [],
   "source": []
  }
 ]
}