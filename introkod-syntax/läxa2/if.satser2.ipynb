{
 "metadata": {
  "language_info": {
   "codemirror_mode": {
    "name": "ipython",
    "version": 3
   },
   "file_extension": ".py",
   "mimetype": "text/x-python",
   "name": "python",
   "nbconvert_exporter": "python",
   "pygments_lexer": "ipython3",
   "version": "3.8.3-final"
  },
  "orig_nbformat": 2,
  "kernelspec": {
   "name": "python_defaultSpec_1600412724717",
   "display_name": "Python 3.8.3 64-bit ('base': conda)"
  }
 },
 "nbformat": 4,
 "nbformat_minor": 2,
 "cells": [
  {
   "cell_type": "code",
   "execution_count": 50,
   "metadata": {
    "tags": []
   },
   "outputs": [
    {
     "output_type": "stream",
     "name": "stdout",
     "text": "talet är positivt\n"
    }
   ],
   "source": [
    "tal = int(float(input(\"ge mig ett nummer:\")))\n",
    "if tal < 0 :\n",
    "    print(\"talet är negativ\")\n",
    "elif tal > 0:\n",
    "    print(\"talet är positivt\")\n",
    "else:\n",
    "    print(\"talet är noll\")"
   ]
  },
  {
   "cell_type": "code",
   "execution_count": 6,
   "metadata": {
    "tags": []
   },
   "outputs": [
    {
     "output_type": "stream",
     "name": "stdout",
     "text": "vinkelsumman 180\ndin är rätvinkel\n"
    }
   ],
   "source": [
    "a = int(input(\"hur mycket ska vinkel a vara?\"))\n",
    "x = int(input(\"hur mycket ska vinkel x vara?\"))\n",
    "b = int(input(\"hur mycket ska vinkel b vara?\"))\n",
    "vinkelsumman = a + x + b \n",
    "print(f\"vinkelsumman {vinkelsumman}\")\n",
    "if vinkelsumman != 180:\n",
    "    print(\"det är ingen triangel\") \n",
    "else:\n",
    "    if a == 90 or x == 90 or b == 90:\n",
    "        print(\"din är rätvinkel\")\n",
    "    else:\n",
    "        print(\"din är inte rätvinkel\")    "
   ]
  },
  {
   "cell_type": "code",
   "execution_count": 5,
   "metadata": {
    "tags": []
   },
   "outputs": [
    {
     "output_type": "error",
     "ename": "SyntaxError",
     "evalue": "invalid syntax (<fstring>, line 1)",
     "traceback": [
      "\u001b[1;36m  File \u001b[1;32m\"<fstring>\"\u001b[1;36m, line \u001b[1;32m1\u001b[0m\n\u001b[1;33m    (%2)\u001b[0m\n\u001b[1;37m     ^\u001b[0m\n\u001b[1;31mSyntaxError\u001b[0m\u001b[1;31m:\u001b[0m invalid syntax\n"
     ]
    }
   ],
   "source": [
    "tal = int(input(\"ange ett tal: \"))\n",
    "\n",
    "if tal %2 == 0:\n",
    "    print(\"talet är jämnt\")\n",
    "else: \n",
    "    print(\"talet är udda\")\n",
    "if tal %5 == 0:\n",
    "    print(\"talet är delbart med 5\")\n",
    "else:\n",
    "    print(\"talet är inte delbart med 5\")\n",
    "print(f\"talet {tal} är {%2} och {%5}\")"
   ]
  },
  {
   "cell_type": "code",
   "execution_count": null,
   "metadata": {},
   "outputs": [],
   "source": [
    "radie = int(print(\"\"))"
   ]
  }
 ]
}