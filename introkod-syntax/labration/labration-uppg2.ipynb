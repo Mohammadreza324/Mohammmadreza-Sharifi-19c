{
 "metadata": {
  "language_info": {
   "codemirror_mode": {
    "name": "ipython",
    "version": 3
   },
   "file_extension": ".py",
   "mimetype": "text/x-python",
   "name": "python",
   "nbconvert_exporter": "python",
   "pygments_lexer": "ipython3",
   "version": "3.8.3-final"
  },
  "orig_nbformat": 2,
  "kernelspec": {
   "name": "Python 3.8.3 64-bit (conda)",
   "display_name": "Python 3.8.3 64-bit (conda)",
   "metadata": {
    "interpreter": {
     "hash": "8bbdb1c6622f4f48f0cd04453d2c23045bd261adfd4daca33eb67cc58c541c18"
    }
   }
  }
 },
 "nbformat": 4,
 "nbformat_minor": 2,
 "cells": [
  {
   "cell_type": "code",
   "execution_count": 8,
   "metadata": {},
   "outputs": [
    {
     "output_type": "stream",
     "name": "stdout",
     "text": [
      "1 2 3 4 5 6 7 8 9 10 11 12 13 14 15 16 17 18 19 20 21 22 23 24 25 26 27 28 29 30 31 32 33 34 35 36 37 38 39 40 41 42 43 44 45 46 47 48 49 50 51 52 53 54 55 56 57 58 59 60 61 62 63 64 65 66 67 68 69 70 71 72 73 74 75 76 77 78 79 80 81 82 83 84 85 86 87 88 89 90 91 92 93 94 95 96 97 98 99 100 "
     ]
    }
   ],
   "source": [
    "n = 0\n",
    "for x in range(0,100):\n",
    "    n+=1\n",
    "    print(n, end = \" \")"
   ]
  },
  {
   "cell_type": "code",
   "execution_count": 15,
   "metadata": {},
   "outputs": [
    {
     "output_type": "stream",
     "name": "stdout",
     "text": [
      "1 2 3 4 burr\n6 7 8 9 burr\n11 12 13 14 burr\n16 17 18 19 burr\n"
     ]
    }
   ],
   "source": [
    "n = 0\n",
    "for x in range(0,20):\n",
    "    n+=1\n",
    "    if n % 5 == 0:\n",
    "        print(\"burr\")\n",
    "    else:\n",
    "        print(n , end = \" \")\n"
   ]
  },
  {
   "cell_type": "code",
   "execution_count": 19,
   "metadata": {},
   "outputs": [
    {
     "output_type": "stream",
     "name": "stdout",
     "text": [
      "1 2 3 4 5 6 7 8 9 burr\n11 12 13 14 15 16 17 18 19 burr\n21 22 23 24 25 26 27 28 29 burr\n31 32 33 34 35 36 37 38 39 burr\n41 42 43 44 45 46 47 48 49 burr\n51 52 53 54 55 56 57 58 59 burr\n61 62 63 64 65 66 67 68 69 burr\n71 72 73 74 75 76 77 78 79 burr\n81 82 83 84 85 86 87 88 89 burr\n91 92 93 94 95 96 97 98 99 burr\n"
     ]
    }
   ],
   "source": [
    "t = int(input(\"mata in en heltal som ska skrivas burr efter så många gånger:\"))\n",
    "n = 0\n",
    "for x in range(0,100):\n",
    "    n+=1\n",
    "    if n % t == 0:\n",
    "        print(\"burr\")\n",
    "    else:\n",
    "        print(n , end = \" \")\n"
   ]
  },
  {
   "cell_type": "code",
   "execution_count": 38,
   "metadata": {},
   "outputs": [
    {
     "output_type": "stream",
     "name": "stdout",
     "text": [
      "1 2 3 4 burr 6 7 8 9 burr "
     ]
    }
   ],
   "source": [
    "n = 0\n",
    "start = int(input(\"Mata in en heltal startvärde:.....\")) \n",
    "slut= int(input(\"Mata in nu en heltal för slutet:.....\"))\n",
    "burr = int(input(\"Mata in en heltal multipel för burr:.....\"))\n",
    "birr = int(input(\"Mata in en heltal multipel för birr:.....\"))\n",
    "for x in range (start, slut):\n",
    "    n+=1\n",
    "    if n % burr == 0:\n",
    "        print(\"burr\", end = \" \")\n",
    "    elif n % birr == 0:\n",
    "        print(\"birr\", end = \" \")\n",
    "    elif n % burr birr == 0:\n",
    "        print(\"burr-birr\")\n",
    "    else:\n",
    "        print(n, end = \" \")"
   ]
  },
  {
   "cell_type": "code",
   "execution_count": 10,
   "metadata": {},
   "outputs": [
    {
     "output_type": "stream",
     "name": "stdout",
     "text": [
      "1\n2\nburr\n4\n5\nburr\n7\n8\nburr-birr\n10\n11\nburr\n13\n14\nburr\n16\n17\nburr-birr\n19\n20\nburr\n22\n23\nburr\n25\n26\nburr-birr\n"
     ]
    }
   ],
   "source": [
    "n = 0\n",
    "for x in range (0, 27):\n",
    "    n+=1\n",
    "    if n % 3 == 0 and n % 9 == 0:\n",
    "        print(\"burr-birr\")\n",
    "    else:\n",
    "        if n % 3 == 0:\n",
    "            print(\"burr\")\n",
    "        elif n % 9 == 0:\n",
    "            print(\"birr\")\n",
    "        else:\n",
    "            print(n)"
   ]
  },
  {
   "cell_type": "code",
   "execution_count": null,
   "metadata": {},
   "outputs": [],
   "source": []
  }
 ]
}