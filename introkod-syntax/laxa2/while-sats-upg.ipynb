{
 "metadata": {
  "language_info": {
   "codemirror_mode": {
    "name": "ipython",
    "version": 3
   },
   "file_extension": ".py",
   "mimetype": "text/x-python",
   "name": "python",
   "nbconvert_exporter": "python",
   "pygments_lexer": "ipython3",
   "version": "3.8.3-final"
  },
  "orig_nbformat": 2,
  "kernelspec": {
   "name": "Python 3.8.3 64-bit ('base': conda)",
   "display_name": "Python 3.8.3 64-bit ('base': conda)",
   "metadata": {
    "interpreter": {
     "hash": "8bbdb1c6622f4f48f0cd04453d2c23045bd261adfd4daca33eb67cc58c541c18"
    }
   }
  }
 },
 "nbformat": 4,
 "nbformat_minor": 2,
 "cells": [
  {
   "source": [
    "# uppgift 1"
   ],
   "cell_type": "markdown",
   "metadata": {}
  },
  {
   "cell_type": "code",
   "execution_count": 7,
   "metadata": {
    "tags": []
   },
   "outputs": [
    {
     "output_type": "stream",
     "name": "stdout",
     "text": "5050 "
    }
   ],
   "source": [
    "n = 0 # räknar variabel\n",
    "summan = 0\n",
    "while n <= 100:\n",
    "    summan += n \n",
    "    n +=1\n",
    "print(summan, end= \" \")"
   ]
  },
  {
   "source": [
    "# uppg 2\n"
   ],
   "cell_type": "markdown",
   "metadata": {}
  },
  {
   "cell_type": "code",
   "execution_count": 8,
   "metadata": {
    "tags": []
   },
   "outputs": [
    {
     "output_type": "stream",
     "name": "stdout",
     "text": "4950 "
    }
   ],
   "source": [
    "n = 0\n",
    "summan = 0\n",
    "while n <= 99:\n",
    "    summan += n \n",
    "    n +=1\n",
    "print(summan, end= \" \")"
   ]
  },
  {
   "cell_type": "code",
   "execution_count": 22,
   "metadata": {
    "tags": []
   },
   "outputs": [
    {
     "output_type": "stream",
     "name": "stdout",
     "text": "Det tar 5 timmar för mjölken att bli sur\n"
    }
   ],
   "source": [
    "b = 1500000\n",
    "t = 0\n",
    "while  b < 10000000:\n",
    "    b *= 1.5\n",
    "    t += 1\n",
    "print(f\"Det tar {t} timmar för mjölken att bli sur\")"
   ]
  },
  {
   "cell_type": "code",
   "execution_count": 38,
   "metadata": {
    "tags": []
   },
   "outputs": [
    {
     "output_type": "stream",
     "name": "stdout",
     "text": "gissa lägre\ngissa högre\ngissa högre\ngissa lägre\ngrattis\n"
    }
   ],
   "source": [
    "import random as rnd \n",
    "r= rnd.randint(1,100)\n",
    "\n",
    "while r != g:\n",
    "    g = int(input(\"gissa nummret 1,100: \"))\n",
    "    if g < r:\n",
    "        print(\"gissa högre\")\n",
    "    elif g > r:\n",
    "        print(\"gissa lägre\")\n",
    "\n",
    "    else:\n",
    "        print(\"grattis\")"
   ]
  },
  {
   "cell_type": "code",
   "execution_count": null,
   "metadata": {},
   "outputs": [],
   "source": []
  }
 ]
}