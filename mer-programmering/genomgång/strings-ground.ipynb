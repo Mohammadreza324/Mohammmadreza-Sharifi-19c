{
 "metadata": {
  "language_info": {
   "codemirror_mode": {
    "name": "ipython",
    "version": 3
   },
   "file_extension": ".py",
   "mimetype": "text/x-python",
   "name": "python",
   "nbconvert_exporter": "python",
   "pygments_lexer": "ipython3",
   "version": "3.8.3-final"
  },
  "orig_nbformat": 2,
  "kernelspec": {
   "name": "python3",
   "display_name": "Python 3.8.3 64-bit (conda)",
   "metadata": {
    "interpreter": {
     "hash": "8bbdb1c6622f4f48f0cd04453d2c23045bd261adfd4daca33eb67cc58c541c18"
    }
   }
  }
 },
 "nbformat": 4,
 "nbformat_minor": 2,
 "cells": [
  {
   "cell_type": "code",
   "execution_count": 1,
   "metadata": {},
   "outputs": [
    {
     "output_type": "error",
     "ename": "NameError",
     "evalue": "name 'alfabet' is not defined",
     "traceback": [
      "\u001b[1;31m---------------------------------------------------------------------------\u001b[0m",
      "\u001b[1;31mNameError\u001b[0m                                 Traceback (most recent call last)",
      "\u001b[1;32m<ipython-input-1-ac6f9a4069d2>\u001b[0m in \u001b[0;36m<module>\u001b[1;34m\u001b[0m\n\u001b[0;32m      1\u001b[0m \u001b[0malfabet\u001b[0m \u001b[1;33m:\u001b[0m \u001b[1;34m\"abcdefghijklmnpqrs\"\u001b[0m\u001b[1;33m\u001b[0m\u001b[1;33m\u001b[0m\u001b[0m\n\u001b[0;32m      2\u001b[0m \u001b[1;33m\u001b[0m\u001b[0m\n\u001b[1;32m----> 3\u001b[1;33m \u001b[0mprint\u001b[0m\u001b[1;33m(\u001b[0m\u001b[1;34mf\"alfabetet innehåller {len(alfabet)} bokstäver\"\u001b[0m\u001b[1;33m)\u001b[0m\u001b[1;33m\u001b[0m\u001b[1;33m\u001b[0m\u001b[0m\n\u001b[0m",
      "\u001b[1;31mNameError\u001b[0m: name 'alfabet' is not defined"
     ]
    }
   ],
   "source": [
    "alfabet : \"abcdefghijklmnpqrs\"\n",
    "\n",
    "print(f\"alfabetet innehåller {len(alfabet)} bokstäver\")"
   ]
  },
  {
   "cell_type": "code",
   "execution_count": 8,
   "metadata": {},
   "outputs": [
    {
     "output_type": "stream",
     "name": "stdout",
     "text": [
      "['matematik', 'fysik', 'programmering']\n['ris', 'kyckling', 'kebab', 'ash']\njag älskar maten ris\njag älskar maten kyckling\njag älskar maten kebab\njag älskar maten ash\n"
     ]
    }
   ],
   "source": [
    "# split()\n",
    "\n",
    "favoritämne = \"matematik fysik programmering\"\n",
    "favoritmat = \"ris, kyckling, kebab, ash\"\n",
    "\n",
    "#split() separeraren sträng\n",
    "favoritämne = favoritämne.split()\n",
    "favoritmat = favoritmat.split(\", \")\n",
    "\n",
    "print(favoritämne)\n",
    "print(favoritmat)\n",
    "\n",
    "for mat in favoritmat:\n",
    "    print(f\"jag älskar maten {mat}\")"
   ]
  },
  {
   "cell_type": "code",
   "execution_count": null,
   "metadata": {},
   "outputs": [],
   "source": []
  }
 ]
}