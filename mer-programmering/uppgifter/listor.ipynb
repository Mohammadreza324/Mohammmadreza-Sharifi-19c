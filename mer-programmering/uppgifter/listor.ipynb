{
 "metadata": {
  "language_info": {
   "codemirror_mode": {
    "name": "ipython",
    "version": 3
   },
   "file_extension": ".py",
   "mimetype": "text/x-python",
   "name": "python",
   "nbconvert_exporter": "python",
   "pygments_lexer": "ipython3",
   "version": "3.8.3"
  },
  "orig_nbformat": 2,
  "kernelspec": {
   "name": "python383jvsc74a57bd08bbdb1c6622f4f48f0cd04453d2c23045bd261adfd4daca33eb67cc58c541c18",
   "display_name": "Python 3.8.3 64-bit (conda)"
  }
 },
 "nbformat": 4,
 "nbformat_minor": 2,
 "cells": [
  {
   "cell_type": "code",
   "execution_count": 13,
   "metadata": {},
   "outputs": [
    {
     "output_type": "stream",
     "name": "stdout",
     "text": [
      "0\n1\n1\n0\n"
     ]
    }
   ],
   "source": [
    "import random as rnd\n",
    "#tärning=[]\n",
    "for x in range(0,4):\n",
    "    tärning = rnd.randint(0,1)\n",
    "    #x+=1\n",
    "    print(tärning)\n"
   ]
  },
  {
   "cell_type": "code",
   "execution_count": 11,
   "metadata": {},
   "outputs": [
    {
     "output_type": "stream",
     "name": "stdout",
     "text": [
      "1\n0\n1\n0\n"
     ]
    }
   ],
   "source": [
    "import random as rnd\n",
    "\n",
    "for i in range(0,4):\n",
    "    x = rnd.randint(0,1)\n",
    "    i+=1\n",
    "    print(x)"
   ]
  },
  {
   "cell_type": "code",
   "execution_count": null,
   "metadata": {},
   "outputs": [],
   "source": []
  }
 ]
}