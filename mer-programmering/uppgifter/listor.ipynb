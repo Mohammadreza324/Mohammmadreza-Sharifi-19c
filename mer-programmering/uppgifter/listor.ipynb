{
 "metadata": {
  "language_info": {
   "codemirror_mode": {
    "name": "ipython",
    "version": 3
   },
   "file_extension": ".py",
   "mimetype": "text/x-python",
   "name": "python",
   "nbconvert_exporter": "python",
   "pygments_lexer": "ipython3",
   "version": "3.8.3-final"
  },
  "orig_nbformat": 2,
  "kernelspec": {
   "name": "python3",
   "display_name": "Python 3"
  }
 },
 "nbformat": 4,
 "nbformat_minor": 2,
 "cells": [
  {
   "cell_type": "code",
   "execution_count": 6,
   "metadata": {},
   "outputs": [
    {
     "output_type": "stream",
     "name": "stdout",
     "text": [
      "1 = 5\n2 = 6\n3 = 1\n4 = 2\n5 = 4\n6 = 5\n7 = 3\n8 = 4\n9 = 4\n10 = 4\n"
     ]
    }
   ],
   "source": [
    "import random as rnd\n",
    "tärning=[]\n",
    "for x in range(0,10):\n",
    "    tärning = rnd.randint(1,6)\n",
    "    x+=1\n",
    "    print(f\"{x} = {tärning}\")\n"
   ]
  },
  {
   "cell_type": "code",
   "execution_count": null,
   "metadata": {},
   "outputs": [],
   "source": []
  }
 ]
}