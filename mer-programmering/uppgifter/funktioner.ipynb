{
 "metadata": {
  "language_info": {
   "codemirror_mode": {
    "name": "ipython",
    "version": 3
   },
   "file_extension": ".py",
   "mimetype": "text/x-python",
   "name": "python",
   "nbconvert_exporter": "python",
   "pygments_lexer": "ipython3",
   "version": "3.8.3-final"
  },
  "orig_nbformat": 2,
  "kernelspec": {
   "name": "python3",
   "display_name": "Python 3"
  }
 },
 "nbformat": 4,
 "nbformat_minor": 2,
 "cells": [
  {
   "source": [
    "# uppg 1\n"
   ],
   "cell_type": "markdown",
   "metadata": {}
  },
  {
   "cell_type": "code",
   "execution_count": 60,
   "metadata": {},
   "outputs": [
    {
     "output_type": "stream",
     "name": "stdout",
     "text": [
      "5050.0\n"
     ]
    }
   ],
   "source": [
    "import numpy as np\n",
    "def f(n):\n",
    "    return (n*(1+n))/2\n",
    "print(f(100))# 1+2+3+4+5...+100 = 45"
   ]
  },
  {
   "cell_type": "code",
   "execution_count": 62,
   "metadata": {},
   "outputs": [
    {
     "output_type": "stream",
     "name": "stdout",
     "text": [
      "atimetiskt-summan blir:  5500.0\n"
     ]
    }
   ],
   "source": [
    "a1 = int(input(\"mata in tal där det ska börja räkna:\"))\n",
    "an = int(input(\"ange ärdet till an:\"))\n",
    "n = int(input(\"mata in talet som systemet ska räkna artimetiskt från a1 till n:\"))\n",
    "\n",
    "\n",
    "def f(n,a1,an):\n",
    "    return (n*(a1+an))/2\n",
    "print(f\"atimetiskt-summan blir:  {f(n, a1, an)}\")"
   ]
  },
  {
   "source": [
    "# uppg 2"
   ],
   "cell_type": "markdown",
   "metadata": {}
  },
  {
   "cell_type": "code",
   "execution_count": 68,
   "metadata": {},
   "outputs": [
    {
     "output_type": "stream",
     "name": "stdout",
     "text": [
      "summan av [1, 3, 5, 7, 9, 11, 13, 15, 17, 19] blir 100\n"
     ]
    }
   ],
   "source": [
    "def f(n):\n",
    "    return [2*n+1 for n in range(0,10)] # skapar en for-sats till funktionen i en lista\n",
    "sum = 0\n",
    "for x in f(n): # gör en till for-sats för att addera ihop de\n",
    "    sum+=x\n",
    "print(f\"summan av {f(n)} blir {sum}\")"
   ]
  },
  {
   "cell_type": "code",
   "execution_count": 69,
   "metadata": {},
   "outputs": [
    {
     "output_type": "stream",
     "name": "stdout",
     "text": [
      "summan av [1, 3, 5, 7, 9, 11, 13, 15, 17, 19] blir 100\n"
     ]
    }
   ],
   "source": [
    "start = int(input(\"ange ett tal där du vill att uträkningen ska börjas:\"))\n",
    "slut =int(input(\"ange ett tal där uträkningen ska avslutas: \"))\n",
    "#n =int(input(\"\")) fatta inte verför ska slutvärdet bestämmas och n ska bestämmas\n",
    "def f(n,start,slut):\n",
    "    return [2*n+1 for n in range(start,slut)] \n",
    "\n",
    "sum = 0\n",
    "for x in f(n,start,slut): \n",
    "    sum+=x\n",
    "print(f\"summan av {f(n,start,slut)} blir {sum}\")"
   ]
  },
  {
   "source": [
    "# uppg 3"
   ],
   "cell_type": "markdown",
   "metadata": {}
  },
  {
   "cell_type": "code",
   "execution_count": 76,
   "metadata": {},
   "outputs": [
    {
     "output_type": "stream",
     "name": "stdout",
     "text": [
      "Avståndet mellan två punkter (3,3),(-2,1) är  5.39 enheter\n"
     ]
    }
   ],
   "source": [
    "#p1=[x1,y1]\n",
    "#p2=[x2,y2]\n",
    "def a(x1,y1,x2,y2):\n",
    "    return ((x2-x1)**2 + (y2-y1)**2)**0.5\n",
    "print(f\"Avståndet mellan två punkter (3,3),(-2,1) är {a(3, 3, -2, 1): .2f} enheter\")"
   ]
  },
  {
   "cell_type": "code",
   "execution_count": 59,
   "metadata": {},
   "outputs": [
    {
     "output_type": "stream",
     "name": "stdout",
     "text": [
      "avståndet mellan punkterna [3, 3] och [-2, 1] är 5.385164807134504\n"
     ]
    }
   ],
   "source": [
    "x1=int(input(\"ange kordinaterna för x1:\"))\n",
    "y1=int(input(\"ange kordinaterna för y1:\"))\n",
    "\n",
    "x2=int(input(\"ange kordinaterna för x2:\"))\n",
    "y2=int(input(\"ange kordinaterna för y2:\"))\n",
    "\n",
    "p1=[x1,y1]\n",
    "p2=[x2,y2]\n",
    "def a(x1,y1,x2,y2):\n",
    "    return ((x2-x1)**2 + (y2-y1)**2)**0.5\n",
    "print(f\"avståndet mellan punkterna {p1} och {p2} är {a(x1,y1,x2,y2):.2f}\")\n"
   ]
  },
  {
   "source": [
    "# uppg 4"
   ],
   "cell_type": "markdown",
   "metadata": {}
  },
  {
   "cell_type": "code",
   "execution_count": 29,
   "metadata": {},
   "outputs": [
    {
     "output_type": "stream",
     "name": "stdout",
     "text": [
      "3 8\n"
     ]
    }
   ],
   "source": [
    "din_tal = [5839]\n",
    "delat_tal = [5,8,3,9]\n",
    "#if delat_tal[0,1]%1 == 0:\n",
    " #   print(f\"{delat_tal[0]} stk tusenlappar\")\n",
    "#else:\n",
    "print(delat_tal[2],delat_tal[1])"
   ]
  },
  {
   "cell_type": "code",
   "execution_count": null,
   "metadata": {},
   "outputs": [],
   "source": []
  }
 ]
}