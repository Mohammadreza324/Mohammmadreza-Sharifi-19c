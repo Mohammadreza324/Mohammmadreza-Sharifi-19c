{
 "metadata": {
  "language_info": {
   "codemirror_mode": {
    "name": "ipython",
    "version": 3
   },
   "file_extension": ".py",
   "mimetype": "text/x-python",
   "name": "python",
   "nbconvert_exporter": "python",
   "pygments_lexer": "ipython3",
   "version": "3.8.3-final"
  },
  "orig_nbformat": 2,
  "kernelspec": {
   "name": "python3",
   "display_name": "Python 3",
   "language": "python"
  }
 },
 "nbformat": 4,
 "nbformat_minor": 2,
 "cells": [
  {
   "cell_type": "code",
   "execution_count": 3,
   "metadata": {},
   "outputs": [
    {
     "output_type": "stream",
     "name": "stdout",
     "text": [
      "5572.453333333334\n"
     ]
    }
   ],
   "source": [
    "x = int(input(\"mata in radian på cyrkeln: \"))\n",
    "def radien(x):\n",
    "    volym = (4 * 3.14 * x**3)/3\n",
    "    return volym\n",
    "print(radien(x))"
   ]
  },
  {
   "cell_type": "code",
   "execution_count": 4,
   "metadata": {},
   "outputs": [
    {
     "output_type": "stream",
     "name": "stdout",
     "text": [
      "4\n"
     ]
    }
   ],
   "source": [
    "mening = input(\"mata in en minen:\")\n",
    "mening = mening.split ()\n",
    "p=0\n",
    "for x in mening: \n",
    "    p+=1\n",
    "print(p)\n"
   ]
  },
  {
   "source": [
    "# 6\n",
    "# gångertabellen  "
   ],
   "cell_type": "markdown",
   "metadata": {}
  },
  {
   "cell_type": "code",
   "execution_count": null,
   "metadata": {},
   "outputs": [],
   "source": []
  },
  {
   "source": [
    "# 7 \n",
    "# tärningar "
   ],
   "cell_type": "markdown",
   "metadata": {}
  },
  {
   "cell_type": "code",
   "execution_count": 25,
   "metadata": {},
   "outputs": [
    {
     "output_type": "stream",
     "name": "stdout",
     "text": [
      "andelen femmor är 0.167\n"
     ]
    }
   ],
   "source": [
    "y=0\n",
    "import random as rnd\n",
    "for i in range(1000):\n",
    "    x = rnd.randint(1,6) # om du vill få med ett tal som 3.5366345 kan du skriva uniform istället för randint\n",
    "    if x == 5:\n",
    "        y+=1\n",
    "\n",
    "print(f\"andelen femmor är {y/1000} procent\")"
   ]
  },
  {
   "source": [
    "# 8 \n",
    "# växla pengarna"
   ],
   "cell_type": "markdown",
   "metadata": {}
  },
  {
   "cell_type": "code",
   "execution_count": null,
   "metadata": {},
   "outputs": [],
   "source": []
  }
 ]
}