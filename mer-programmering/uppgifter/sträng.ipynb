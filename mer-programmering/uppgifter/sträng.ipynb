{
 "metadata": {
  "language_info": {
   "codemirror_mode": {
    "name": "ipython",
    "version": 3
   },
   "file_extension": ".py",
   "mimetype": "text/x-python",
   "name": "python",
   "nbconvert_exporter": "python",
   "pygments_lexer": "ipython3",
   "version": "3.8.3-final"
  },
  "orig_nbformat": 2,
  "kernelspec": {
   "name": "python3",
   "display_name": "Python 3",
   "language": "python"
  }
 },
 "nbformat": 4,
 "nbformat_minor": 2,
 "cells": [
  {
   "cell_type": "code",
   "execution_count": 32,
   "metadata": {},
   "outputs": [
    {
     "output_type": "stream",
     "name": "stdout",
     "text": [
      "antal alfabetet i namnet är 0\n"
     ]
    }
   ],
   "source": [
    "namn = input(\"ange ditt namn: \")\n",
    "print(f\"antal alfabetet i namnet är {len(namn)}\")"
   ]
  },
  {
   "cell_type": "code",
   "execution_count": 2,
   "metadata": {},
   "outputs": [
    {
     "output_type": "stream",
     "name": "stdout",
     "text": [
      "14\n"
     ]
    }
   ],
   "source": [
    "meningen = (\"En bild säger mer än tusen ord, en matematisk formel säger mer än tusen ord\")\n",
    "meningen = meningen.split( )\n",
    "p = 0\n",
    "for x in meningen:\n",
    "    p+=1\n",
    "print(p)"
   ]
  },
  {
   "cell_type": "code",
   "execution_count": 34,
   "metadata": {},
   "outputs": [
    {
     "output_type": "stream",
     "name": "stdout",
     "text": [
      "din mening är palindrom\n"
     ]
    }
   ],
   "source": [
    "mening = input(\"mata in en mening eller ord utan mellanslag. vi kommer få se om det är palindrom eller inte: \")\n",
    "baklänges = f\"{mening[::-1]}\"\n",
    "if mening == baklänges:\n",
    "    print(\"din mening är palindrom\")\n",
    "else:\n",
    "    print(\"din mening eller ord är inte palindrom\")"
   ]
  },
  {
   "cell_type": "code",
   "execution_count": 53,
   "metadata": {},
   "outputs": [
    {
     "output_type": "stream",
     "name": "stdout",
     "text": [
      "nital arb ralat in\ndin mening eller ord är inte palindrom\n"
     ]
    }
   ],
   "source": [
    "mening = input(\"mata in en mening eller ord (mellanslag kan användas). vi kommer få se om det är palindrom eller inte: \")\n",
    "#mening = mening.split( )\n",
    "print(f\"{mening[::-1]}\")\n",
    "if mening == f\"{mening[::-1]}\":\n",
    "    print(\"din mening är palindrom\")\n",
    "else:\n",
    "    print(\"din mening eller ord är inte palindrom\")"
   ]
  },
  {
   "cell_type": "code",
   "execution_count": 83,
   "metadata": {},
   "outputs": [
    {
     "output_type": "stream",
     "name": "stdout",
     "text": [
      "7\n"
     ]
    }
   ],
   "source": [
    "#a e i o \n",
    "#mening = \"heej e e  e \"\n",
    "#mening = \"do not worry about your difficulties in mathematics. i can assure you mine are still greater.\"\n",
    "#x = [bokstav for bokstav in mening]\n",
    "#print(x)\n",
    "\n",
    "#for a in mening:\n",
    " #   x+=1\n",
    "#print(x)\n",
    "#print(mening.index(\"h\"))\n",
    "n = 0\n",
    "for e in mening:\n",
    "    if e.lower() in \"heej\":\n",
    "        n+=1\n",
    "print(n)"
   ]
  },
  {
   "cell_type": "code",
   "execution_count": null,
   "metadata": {},
   "outputs": [],
   "source": []
  }
 ]
}