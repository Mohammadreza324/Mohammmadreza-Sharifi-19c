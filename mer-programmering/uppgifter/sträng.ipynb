{
 "metadata": {
  "language_info": {
   "codemirror_mode": {
    "name": "ipython",
    "version": 3
   },
   "file_extension": ".py",
   "mimetype": "text/x-python",
   "name": "python",
   "nbconvert_exporter": "python",
   "pygments_lexer": "ipython3",
   "version": "3.8.3-final"
  },
  "orig_nbformat": 2,
  "kernelspec": {
   "name": "python3",
   "display_name": "Python 3",
   "language": "python"
  }
 },
 "nbformat": 4,
 "nbformat_minor": 2,
 "cells": [
  {
   "cell_type": "code",
   "execution_count": 1,
   "metadata": {},
   "outputs": [
    {
     "output_type": "stream",
     "name": "stdout",
     "text": [
      "antal alfabetet i namnet är 13\n"
     ]
    }
   ],
   "source": [
    "namn = input(\"ange ditt namn: \")\n",
    "print(f\"antal alfabetet i namnet är {len(namn)}\")"
   ]
  },
  {
   "cell_type": "code",
   "execution_count": 2,
   "metadata": {},
   "outputs": [
    {
     "output_type": "stream",
     "name": "stdout",
     "text": [
      "14\n"
     ]
    }
   ],
   "source": [
    "meningen = (\"En bild säger mer än tusen ord, en matematisk formel säger mer än tusen ord\")\n",
    "meningen = meningen.split( )\n",
    "p = 0\n",
    "for x in meningen:\n",
    "    p+=1\n",
    "print(p)"
   ]
  },
  {
   "cell_type": "code",
   "execution_count": 34,
   "metadata": {},
   "outputs": [
    {
     "output_type": "stream",
     "name": "stdout",
     "text": [
      "din mening är palindrom\n"
     ]
    }
   ],
   "source": [
    "mening = input(\"mata in en mening eller ord utan mellanslag. vi kommer få se om det är palindrom eller inte: \")\n",
    "baklänges = f\"{mening[::-1]}\"\n",
    "if mening == baklänges:\n",
    "    print(\"din mening är palindrom\")\n",
    "else:\n",
    "    print(\"din mening eller ord är inte palindrom\")"
   ]
  },
  {
   "cell_type": "code",
   "execution_count": 15,
   "metadata": {},
   "outputs": [
    {
     "output_type": "stream",
     "name": "stdout",
     "text": [
      "knk\ndin mening är palindrom\n"
     ]
    }
   ],
   "source": [
    "mening = input(\"mata in en mening eller ord (mellanslag kan användas). vi kommer få se om det är palindrom eller inte: \")\n",
    "#mening = mening.split( )\n",
    "print(f\"{mening[::-1]}\")\n",
    "if mening == mening[::-1]:\n",
    "    print(\"din mening är palindrom\")\n",
    "else:\n",
    "    print(\"din mening eller ord är inte palindrom\")"
   ]
  },
  {
   "cell_type": "code",
   "execution_count": 13,
   "metadata": {},
   "outputs": [
    {
     "output_type": "error",
     "ename": "TypeError",
     "evalue": "'int' object is not iterable",
     "traceback": [
      "\u001b[1;31m---------------------------------------------------------------------------\u001b[0m",
      "\u001b[1;31mTypeError\u001b[0m                                 Traceback (most recent call last)",
      "\u001b[1;32m<ipython-input-13-37ee4e74721f>\u001b[0m in \u001b[0;36m<module>\u001b[1;34m\u001b[0m\n\u001b[0;32m      6\u001b[0m \u001b[1;33m\u001b[0m\u001b[0m\n\u001b[0;32m      7\u001b[0m \u001b[1;32mfor\u001b[0m \u001b[0ma\u001b[0m \u001b[1;32min\u001b[0m \u001b[0mmening\u001b[0m\u001b[1;33m:\u001b[0m\u001b[1;33m\u001b[0m\u001b[1;33m\u001b[0m\u001b[0m\n\u001b[1;32m----> 8\u001b[1;33m     \u001b[0mx\u001b[0m\u001b[1;33m+=\u001b[0m\u001b[1;36m1\u001b[0m\u001b[1;33m\u001b[0m\u001b[1;33m\u001b[0m\u001b[0m\n\u001b[0m\u001b[0;32m      9\u001b[0m \u001b[0mprint\u001b[0m\u001b[1;33m(\u001b[0m\u001b[0mx\u001b[0m\u001b[1;33m)\u001b[0m\u001b[1;33m\u001b[0m\u001b[1;33m\u001b[0m\u001b[0m\n\u001b[0;32m     10\u001b[0m \u001b[0mprint\u001b[0m\u001b[1;33m(\u001b[0m\u001b[0mmening\u001b[0m\u001b[1;33m.\u001b[0m\u001b[0mindex\u001b[0m\u001b[1;33m(\u001b[0m\u001b[1;34m\"h\"\u001b[0m\u001b[1;33m)\u001b[0m\u001b[1;33m)\u001b[0m\u001b[1;33m\u001b[0m\u001b[1;33m\u001b[0m\u001b[0m\n",
      "\u001b[1;31mTypeError\u001b[0m: 'int' object is not iterable"
     ]
    }
   ],
   "source": [
    "# a e i o \n",
    "mening = \"heej e e  e \"\n",
    "#mening = \"do not worry about your difficulties in mathematics. i can assure you mine are still greater.\"\n",
    "#x = [bo for bo in mening]\n",
    "#print(x)\n",
    "\n",
    "for a in mening:\n",
    "    x+=1\n",
    "print(x)\n",
    "print(mening.index(\"h\"))\n",
    "n = 0\n",
    "for e in mening:\n",
    "    if e.lower() in \"heej\":\n",
    "        n+=1\n",
    "print(n)"
   ]
  },
  {
   "cell_type": "code",
   "execution_count": null,
   "metadata": {},
   "outputs": [],
   "source": []
  }
 ]
}