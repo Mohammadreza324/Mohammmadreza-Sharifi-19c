{
 "metadata": {
  "language_info": {
   "codemirror_mode": {
    "name": "ipython",
    "version": 3
   },
   "file_extension": ".py",
   "mimetype": "text/x-python",
   "name": "python",
   "nbconvert_exporter": "python",
   "pygments_lexer": "ipython3",
   "version": "3.8.3-final"
  },
  "orig_nbformat": 2,
  "kernelspec": {
   "name": "python3",
   "display_name": "Python 3.8.3 64-bit ('Mohammedreza.sharif': virtualenv)",
   "metadata": {
    "interpreter": {
     "hash": "8bbdb1c6622f4f48f0cd04453d2c23045bd261adfd4daca33eb67cc58c541c18"
    }
   }
  }
 },
 "nbformat": 4,
 "nbformat_minor": 2,
 "cells": [
  {
   "source": [
    "# fråga 5\n",
    "#A \n",
    "#B\n",
    "#C"
   ],
   "cell_type": "markdown",
   "metadata": {}
  },
  {
   "cell_type": "code",
   "execution_count": 12,
   "metadata": {
    "tags": []
   },
   "outputs": [
    {
     "output_type": "stream",
     "name": "stdout",
     "text": "2 4 6 8 10 12 14 16 18 "
    }
   ],
   "source": [
    "i = int(input(\"ange tabel värdet:\"))\n",
    "start = int(input(\"ange start värdet:\"))\n",
    "slut = int(input(\"ange slut värdet\"))\n",
    "\n",
    "for s in range(start,slut):\n",
    "    s *= i\n",
    "    print( s, end = \" \")"
   ]
  },
  {
   "cell_type": "code",
   "execution_count": null,
   "metadata": {},
   "outputs": [],
   "source": []
  },
  {
   "cell_type": "code",
   "execution_count": 11,
   "metadata": {
    "tags": []
   },
   "outputs": [
    {
     "output_type": "stream",
     "name": "stdout",
     "text": [
      "0   0   0   0   0   0   0   0   0   0   \n0   1   2   3   4   5   6   7   8   9   \n0   2   4   6   8   10  12  14  16  18  \n0   3   6   9   12  15  18  21  24  27  \n0   4   8   12  16  20  24  28  32  36  \n0   5   10  15  20  25  30  35  40  45  \n0   6   12  18  24  30  36  42  48  54  \n0   7   14  21  28  35  42  49  56  63  \n0   8   16  24  32  40  48  56  64  72  \n0   9   18  27  36  45  54  63  72  81  \n"
     ]
    }
   ],
   "source": [
    "for i in range(10):\n",
    "    for s in range(10):\n",
    "        s *= i\n",
    "        \n",
    "        print(f\"{s:<4}\", end=\"\")\n",
    "    print()"
   ]
  },
  {
   "source": [
    "# uppg 4"
   ],
   "cell_type": "markdown",
   "metadata": {}
  },
  {
   "cell_type": "code",
   "execution_count": 18,
   "metadata": {
    "tags": []
   },
   "outputs": [
    {
     "output_type": "stream",
     "name": "stdout",
     "text": [
      "1 2 6 24 120 720 5040 40320 362880 "
     ]
    }
   ],
   "source": [
    "s = 1\n",
    "for i in range(1,10):\n",
    "    s *= i\n",
    "    print(s, end=\" \")"
   ]
  },
  {
   "source": [
    "# upp 6\n",
    "# $$ 2**(-n)$$"
   ],
   "cell_type": "markdown",
   "metadata": {}
  },
  {
   "cell_type": "code",
   "execution_count": 20,
   "metadata": {
    "tags": []
   },
   "outputs": [
    {
     "output_type": "stream",
     "name": "stdout",
     "text": [
      "1.001953125\n3.001953125\n6.001953125\n10.001953125\n15.001953125\n21.001953125\n28.001953125\n36.001953125\n45.001953125\n"
     ]
    }
   ],
   "source": [
    "n=2**-i\n",
    "for i in range(1,10):\n",
    "    n += i\n",
    "    print(n)"
   ]
  },
  {
   "cell_type": "code",
   "execution_count": 21,
   "metadata": {
    "tags": []
   },
   "outputs": [
    {
     "output_type": "stream",
     "name": "stdout",
     "text": [
      "1.5 1.75 1.875 1.9375 1.96875 1.984375 1.9921875 1.99609375 1.998046875 "
     ]
    }
   ],
   "source": [
    "#annat sätt för fråga 6\n",
    "n = 1\n",
    "for i in range(1,10):\n",
    "    n += 2**-i\n",
    "print(n, end=\" \")"
   ]
  },
  {
   "cell_type": "code",
   "execution_count": 24,
   "metadata": {
    "tags": []
   },
   "outputs": [
    {
     "output_type": "stream",
     "name": "stdout",
     "text": [
      "0.5\n0.25\n0.125\n0.0625\n0.03125\n0.015625\n0.0078125\n0.00390625\n0.001953125\n"
     ]
    }
   ],
   "source": [
    "for i in range(1,10):\n",
    "     print(2**(-i))"
   ]
  },
  {
   "cell_type": "code",
   "execution_count": null,
   "metadata": {},
   "outputs": [],
   "source": []
  }
 ]
}