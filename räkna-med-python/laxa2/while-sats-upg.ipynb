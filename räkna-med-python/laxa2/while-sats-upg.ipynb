{
 "metadata": {
  "language_info": {
   "codemirror_mode": {
    "name": "ipython",
    "version": 3
   },
   "file_extension": ".py",
   "mimetype": "text/x-python",
   "name": "python",
   "nbconvert_exporter": "python",
   "pygments_lexer": "ipython3",
   "version": "3.8.3-final"
  },
  "orig_nbformat": 2,
  "kernelspec": {
   "name": "python3",
   "display_name": "Python 3.8.3 64-bit ('Mohammedreza.sharif': virtualenv)",
   "metadata": {
    "interpreter": {
     "hash": "8bbdb1c6622f4f48f0cd04453d2c23045bd261adfd4daca33eb67cc58c541c18"
    }
   }
  }
 },
 "nbformat": 4,
 "nbformat_minor": 2,
 "cells": [
  {
   "source": [
    "# uppgift 1"
   ],
   "cell_type": "markdown",
   "metadata": {}
  },
  {
   "cell_type": "code",
   "execution_count": 10,
   "metadata": {
    "tags": []
   },
   "outputs": [
    {
     "output_type": "stream",
     "name": "stdout",
     "text": [
      "0 1 3 6 10 15 21 28 36 45 55 66 78 91 105 120 136 153 171 190 210 231 253 276 300 325 351 378 406 435 465 496 528 561 595 630 666 703 741 780 820 861 903 946 990 1035 1081 1128 1176 1225 1275 1326 1378 1431 1485 1540 1596 1653 1711 1770 1830 1891 1953 2016 2080 2145 2211 2278 2346 2415 2485 2556 2628 2701 2775 2850 2926 3003 3081 3160 3240 3321 3403 3486 3570 3655 3741 3828 3916 4005 4095 4186 4278 4371 4465 4560 4656 4753 4851 4950 5050 "
     ]
    }
   ],
   "source": [
    "n = 0 # räknar variabel\n",
    "summan = 0\n",
    "while n <= 100:\n",
    "    summan += n \n",
    "    n +=1\n",
    "    print(summan, end= \" \")"
   ]
  },
  {
   "source": [
    "# uppg 2\n"
   ],
   "cell_type": "markdown",
   "metadata": {}
  },
  {
   "cell_type": "code",
   "execution_count": 8,
   "metadata": {
    "tags": []
   },
   "outputs": [
    {
     "output_type": "stream",
     "name": "stdout",
     "text": "4950 "
    }
   ],
   "source": [
    "n = 0\n",
    "summan = 0\n",
    "while n <= 99:\n",
    "    summan += n \n",
    "    n +=1\n",
    "print(summan, end= \" \")"
   ]
  },
  {
   "cell_type": "code",
   "execution_count": 12,
   "metadata": {
    "tags": []
   },
   "outputs": [
    {
     "output_type": "stream",
     "name": "stdout",
     "text": [
      "Det tar 5 timmar för mjölken att bli sur\n"
     ]
    }
   ],
   "source": [
    "b = 1500000\n",
    "t = 0\n",
    "while  b < 10000000:\n",
    "    b *= 1.5\n",
    "    t += 1\n",
    "print(f\"Det tar {t} timmar för mjölken att bli sur\")"
   ]
  },
  {
   "cell_type": "code",
   "execution_count": 24,
   "metadata": {
    "tags": []
   },
   "outputs": [
    {
     "output_type": "stream",
     "name": "stdout",
     "text": [
      "gissa lägre\n",
      "gissa lägre\n",
      "gissa lägre\n",
      "gissa lägre\n",
      "gissa lägre\n",
      "gissa lägre\n",
      "gissa lägre\n",
      "gissa lägre\n",
      "gissa lägre\n",
      "gissa lägre\n",
      "gissa högre\n",
      "gissa högre\n",
      "gissa högre\n",
      "gissa högre\n",
      "grattis\n"
     ]
    }
   ],
   "source": [
    "import random as rnd \n",
    "r= rnd.randint(1,100)\n",
    "while r != g:\n",
    "    g = int(input(\"gissa nummret 1-100: \"))\n",
    "    \n",
    "    if g < r:\n",
    "        print(\"gissa högre\")\n",
    "    elif g > r:\n",
    "        print(\"gissa lägre\")\n",
    "\n",
    "    else:\n",
    "        print(\"grattis\")"
   ]
  },
  {
   "cell_type": "code",
   "execution_count": null,
   "metadata": {},
   "outputs": [],
   "source": []
  }
 ]
}