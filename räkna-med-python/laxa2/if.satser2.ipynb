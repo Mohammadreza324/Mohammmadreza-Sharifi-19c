{
 "metadata": {
  "language_info": {
   "codemirror_mode": {
    "name": "ipython",
    "version": 3
   },
   "file_extension": ".py",
   "mimetype": "text/x-python",
   "name": "python",
   "nbconvert_exporter": "python",
   "pygments_lexer": "ipython3",
   "version": "3.8.3-final"
  },
  "orig_nbformat": 2,
  "kernelspec": {
   "name": "python_defaultSpec_1600626460859",
   "display_name": "Python 3.8.3 64-bit ('base': conda)"
  }
 },
 "nbformat": 4,
 "nbformat_minor": 2,
 "cells": [
  {
   "cell_type": "code",
   "execution_count": 50,
   "metadata": {
    "tags": []
   },
   "outputs": [
    {
     "output_type": "stream",
     "name": "stdout",
     "text": "talet är positivt\n"
    }
   ],
   "source": [
    "tal = int(float(input(\"ge mig ett nummer:\")))\n",
    "if tal < 0 :\n",
    "    print(\"talet är negativ\")\n",
    "elif tal > 0:\n",
    "    print(\"talet är positivt\")\n",
    "else:\n",
    "    print(\"talet är noll\")"
   ]
  },
  {
   "cell_type": "code",
   "execution_count": 6,
   "metadata": {
    "tags": []
   },
   "outputs": [
    {
     "output_type": "stream",
     "name": "stdout",
     "text": "vinkelsumman 180\ndin är rätvinkel\n"
    }
   ],
   "source": [
    "a = int(input(\"hur mycket ska vinkel a vara?\"))\n",
    "x = int(input(\"hur mycket ska vinkel x vara?\"))\n",
    "b = int(input(\"hur mycket ska vinkel b vara?\"))\n",
    "vinkelsumman = a + x + b \n",
    "print(f\"vinkelsumman {vinkelsumman}\")\n",
    "if vinkelsumman != 180:\n",
    "    print(\"det är ingen triangel\") \n",
    "else:\n",
    "    if a == 90 or x == 90 or b == 90:\n",
    "        print(\"din är rätvinkel\")\n",
    "    else:\n",
    "        print(\"din är inte rätvinkel\")    "
   ]
  },
  {
   "cell_type": "code",
   "execution_count": 24,
   "metadata": {
    "tags": []
   },
   "outputs": [
    {
     "output_type": "stream",
     "name": "stdout",
     "text": "talet är udda\ntalet är inte delbart med 5\n"
    }
   ],
   "source": [
    "tal = int(input(\"ange ett tal: \"))\n",
    "\n",
    "if tal %2 == 0:\n",
    "    print(\"talet är jämnt\")\n",
    "else: \n",
    "    print(\"talet är udda\")\n",
    "if tal %5 == 0:\n",
    "    print(\"talet är delbart med 5\")\n",
    "else:\n",
    "    print(\"talet är inte delbart med 5\")\n",
    "#print(f\"talet {tal} är {tal %2} och {tal %5}\")"
   ]
  },
  {
   "cell_type": "code",
   "execution_count": 25,
   "metadata": {
    "tags": []
   },
   "outputs": [
    {
     "output_type": "stream",
     "name": "stdout",
     "text": "Radie kan inte vara negativ.\n"
    }
   ],
   "source": [
    "radie = int(input(\"ange ett radie i cm:\"))\n",
    "if radie < 0:\n",
    "    print(\"Radie kan inte vara negativ.\")\n",
    "else:\n",
    "    print(\"omkretsen är\", round(3.14 * 2 * radie),\"cm\", \"arean är\", 3.14 * radie ** 2)\n"
   ]
  },
  {
   "cell_type": "code",
   "execution_count": null,
   "metadata": {},
   "outputs": [],
   "source": []
  }
 ]
}