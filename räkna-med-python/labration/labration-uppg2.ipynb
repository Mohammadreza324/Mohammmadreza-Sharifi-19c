{
 "metadata": {
  "language_info": {
   "codemirror_mode": {
    "name": "ipython",
    "version": 3
   },
   "file_extension": ".py",
   "mimetype": "text/x-python",
   "name": "python",
   "nbconvert_exporter": "python",
   "pygments_lexer": "ipython3",
   "version": "3.8.3-final"
  },
  "orig_nbformat": 2,
  "kernelspec": {
   "name": "python3",
   "display_name": "Python 3.8.3 64-bit ('Mohammedreza.sharif': virtualenv)",
   "metadata": {
    "interpreter": {
     "hash": "8bbdb1c6622f4f48f0cd04453d2c23045bd261adfd4daca33eb67cc58c541c18"
    }
   }
  }
 },
 "nbformat": 4,
 "nbformat_minor": 2,
 "cells": [
  {
   "cell_type": "code",
   "execution_count": 8,
   "metadata": {},
   "outputs": [
    {
     "output_type": "stream",
     "name": "stdout",
     "text": [
      "1 2 3 4 5 6 7 8 9 10 11 12 13 14 15 16 17 18 19 20 21 22 23 24 25 26 27 28 29 30 31 32 33 34 35 36 37 38 39 40 41 42 43 44 45 46 47 48 49 50 51 52 53 54 55 56 57 58 59 60 61 62 63 64 65 66 67 68 69 70 71 72 73 74 75 76 77 78 79 80 81 82 83 84 85 86 87 88 89 90 91 92 93 94 95 96 97 98 99 100 "
     ]
    }
   ],
   "source": [
    "n = 0\n",
    "for x in range(0,100):\n",
    "    n+=1\n",
    "    # ökar n med 1 efter varje runda \n",
    "    print(n, end = \" \")"
   ]
  },
  {
   "cell_type": "code",
   "execution_count": 15,
   "metadata": {},
   "outputs": [
    {
     "output_type": "stream",
     "name": "stdout",
     "text": [
      "1 2 3 4 burr\n6 7 8 9 burr\n11 12 13 14 burr\n16 17 18 19 burr\n"
     ]
    }
   ],
   "source": [
    "n = 0\n",
    "for x in range(0,20):\n",
    "    n+=1\n",
    "    if n % 5 == 0: \n",
    "        # modolooperatorn används för att se om det är delbart med varandra, om resten på divitionen blir 0 då är dedelbart\n",
    "        print(\"burr\")\n",
    "    else:\n",
    "        print(n , end = \" \")\n"
   ]
  },
  {
   "cell_type": "code",
   "execution_count": 19,
   "metadata": {},
   "outputs": [
    {
     "output_type": "stream",
     "name": "stdout",
     "text": [
      "1 2 3 4 5 6 7 8 9 burr\n11 12 13 14 15 16 17 18 19 burr\n21 22 23 24 25 26 27 28 29 burr\n31 32 33 34 35 36 37 38 39 burr\n41 42 43 44 45 46 47 48 49 burr\n51 52 53 54 55 56 57 58 59 burr\n61 62 63 64 65 66 67 68 69 burr\n71 72 73 74 75 76 77 78 79 burr\n81 82 83 84 85 86 87 88 89 burr\n91 92 93 94 95 96 97 98 99 burr\n"
     ]
    }
   ],
   "source": [
    "t = int(input(\"mata in en heltal som ska skrivas burr efter så många gånger:\"))\n",
    "# man frågar användaren att mata in ett tal\n",
    "# int är för heltal vilket betyder att man inte mata in decimal tal\n",
    "n = 0\n",
    "for x in range(0,100):\n",
    "    n+=1\n",
    "    if n % t == 0:\n",
    "        print(\"burr\")\n",
    "    else:\n",
    "        print(n , end = \" \")\n"
   ]
  },
  {
   "cell_type": "code",
   "execution_count": 1,
   "metadata": {},
   "outputs": [
    {
     "output_type": "error",
     "ename": "ValueError",
     "evalue": "invalid literal for int() with base 10: ''",
     "traceback": [
      "\u001b[1;31m---------------------------------------------------------------------------\u001b[0m",
      "\u001b[1;31mValueError\u001b[0m                                Traceback (most recent call last)",
      "\u001b[1;32m<ipython-input-1-cca3d07df912>\u001b[0m in \u001b[0;36m<module>\u001b[1;34m\u001b[0m\n\u001b[0;32m      1\u001b[0m \u001b[0mn\u001b[0m \u001b[1;33m=\u001b[0m \u001b[1;36m0\u001b[0m\u001b[1;33m\u001b[0m\u001b[1;33m\u001b[0m\u001b[0m\n\u001b[1;32m----> 2\u001b[1;33m \u001b[0mstart\u001b[0m \u001b[1;33m=\u001b[0m \u001b[0mint\u001b[0m\u001b[1;33m(\u001b[0m\u001b[0minput\u001b[0m\u001b[1;33m(\u001b[0m\u001b[1;34m\"Mata in en heltal startvärde:.....\"\u001b[0m\u001b[1;33m)\u001b[0m\u001b[1;33m)\u001b[0m\u001b[1;33m\u001b[0m\u001b[1;33m\u001b[0m\u001b[0m\n\u001b[0m\u001b[0;32m      3\u001b[0m \u001b[0mslut\u001b[0m\u001b[1;33m=\u001b[0m \u001b[0mint\u001b[0m\u001b[1;33m(\u001b[0m\u001b[0minput\u001b[0m\u001b[1;33m(\u001b[0m\u001b[1;34m\"Mata in nu en heltal för slutet:.....\"\u001b[0m\u001b[1;33m)\u001b[0m\u001b[1;33m)\u001b[0m\u001b[1;33m\u001b[0m\u001b[1;33m\u001b[0m\u001b[0m\n\u001b[0;32m      4\u001b[0m \u001b[0mburr\u001b[0m \u001b[1;33m=\u001b[0m \u001b[0mint\u001b[0m\u001b[1;33m(\u001b[0m\u001b[0minput\u001b[0m\u001b[1;33m(\u001b[0m\u001b[1;34m\"Mata in en heltal multipel för burr:.....\"\u001b[0m\u001b[1;33m)\u001b[0m\u001b[1;33m)\u001b[0m\u001b[1;33m\u001b[0m\u001b[1;33m\u001b[0m\u001b[0m\n\u001b[0;32m      5\u001b[0m \u001b[0mbirr\u001b[0m \u001b[1;33m=\u001b[0m \u001b[0mint\u001b[0m\u001b[1;33m(\u001b[0m\u001b[0minput\u001b[0m\u001b[1;33m(\u001b[0m\u001b[1;34m\"Mata in en heltal multipel för birr:.....\"\u001b[0m\u001b[1;33m)\u001b[0m\u001b[1;33m)\u001b[0m\u001b[1;33m\u001b[0m\u001b[1;33m\u001b[0m\u001b[0m\n",
      "\u001b[1;31mValueError\u001b[0m: invalid literal for int() with base 10: ''"
     ]
    }
   ],
   "source": [
    "n = 0\n",
    "start = int(input(\"Mata in en heltal startvärde:.....\")) \n",
    "slut= int(input(\"Mata in nu en heltal för slutet:.....\"))\n",
    "burr = int(input(\"Mata in en heltal multipel för burr:.....\"))\n",
    "birr = int(input(\"Mata in en heltal multipel för birr:.....\"))\n",
    "for x in range (start, slut):\n",
    "    n+=1\n",
    "    if n % burr == 0 and n % birr == 0:\n",
    "        print(\"burr-birr\", end = \" \")\n",
    "    else:\n",
    "        if n % burr == 0:\n",
    "            print(\"burr\", end = \" \")\n",
    "        elif n % birr == 0:\n",
    "            print(\"birr\", end = \" \")\n",
    "        else:\n",
    "            print(n,end = \" \" )"
   ]
  },
  {
   "cell_type": "code",
   "execution_count": 4,
   "metadata": {},
   "outputs": [
    {
     "output_type": "stream",
     "name": "stdout",
     "text": [
      "1 . 2 . burr 4 . 5 . burr 7 . 8 . burr-birr 10 . 11 . burr 13 . 14 . burr 16 . 17 . burr-birr 19 . 20 . burr 22 . 23 . burr 25 . 26 . burr-birr "
     ]
    }
   ],
   "source": [
    "n = 0\n",
    "for x in range (0, 27):\n",
    "    n+=1\n",
    "    if n % 3 == 0 and n % 9 == 0:\n",
    "        #använder and för att om båda krav stämmer kommer det göra det som kommer näst\n",
    "        print(\"burr-birr\", end = \" \")\n",
    "    else:\n",
    "        if n % 3 == 0:\n",
    "            print(\"burr\", end = \" \")\n",
    "        elif n % 9 == 0:\n",
    "            print(\"birr\", end = \" \")\n",
    "        else:\n",
    "            print(n, end = \" . \")\n",
    "            #här använder jag it-sats i if-sats. "
   ]
  },
  {
   "cell_type": "code",
   "execution_count": 23,
   "metadata": {},
   "outputs": [
    {
     "output_type": "stream",
     "name": "stdout",
     "text": [
      "1 | 2 | burr | 4 | 5 | burr | 7 | 8 | burr-birr | "
     ]
    }
   ],
   "source": [
    "# lägga till negativa tal\n",
    "# göra det ännus lättare för läsaren att läsa svaret\n",
    "# man kan ha en förklaring när man klickar på start för att kanske användaren har ingen aning vad det är\n",
    "x = int(input(\"spelet går så här att du matar in ett start värde och slutvärde t.ex 1 till 10 sedan väljer två olika värde för burr och birr, vi säger att du väljer värderna 3 för burr och 9 för birr. programmet kommer att skriva alla sifror 1-10 och de sifror som är delbart(multiplar) med 3 skrivs som burr och tal multiplar med 9 skrivs som birr men om ett tal är delbart med både burr och birr skrivs burr-birr. ok, har du förståt spelet nu? (skriv 1 och klicka på inter för att börja): \"))\n",
    "if x == 1:\n",
    "    start = int(input(\"Mata in en positiv heltal startvärde:.....\")) \n",
    "    slut= int(input(\"Mata in nu en positiv heltal för slutet:.....\"))\n",
    "    burr = int(input(\"Mata in en positiv heltal multipel för burr:.....\"))\n",
    "    birr = int(input(\"Mata in en positiv heltal multipel för birr:.....\"))\n",
    "    n = 0\n",
    "    for x in range (start, slut):\n",
    "        n+=1\n",
    "        if n % burr == 0 and n % birr == 0:\n",
    "            print(\"burr-birr\", end = \" | \")\n",
    "        else:\n",
    "            if n % burr == 0:\n",
    "                print(\"burr\", end = \" | \")\n",
    "            elif n % birr == 0:\n",
    "                print(\"birr\", end = \" | \")\n",
    "            else:\n",
    "                print(n,end = \" | \" )\n",
    "else:\n",
    "    print(\"ok klicka på start igen och läs instruktionen igen.\")"
   ]
  },
  {
   "cell_type": "code",
   "execution_count": null,
   "metadata": {},
   "outputs": [],
   "source": []
  }
 ]
}