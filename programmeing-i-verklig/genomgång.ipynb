{
 "metadata": {
  "language_info": {
   "codemirror_mode": {
    "name": "ipython",
    "version": 3
   },
   "file_extension": ".py",
   "mimetype": "text/x-python",
   "name": "python",
   "nbconvert_exporter": "python",
   "pygments_lexer": "ipython3",
   "version": "3.8.3-final"
  },
  "orig_nbformat": 2,
  "kernelspec": {
   "name": "python3",
   "display_name": "Python 3",
   "language": "python"
  }
 },
 "nbformat": 4,
 "nbformat_minor": 2,
 "cells": [
  {
   "cell_type": "code",
   "execution_count": 1,
   "metadata": {},
   "outputs": [
    {
     "output_type": "stream",
     "name": "stdout",
     "text": [
      "du är barn\n"
     ]
    }
   ],
   "source": [
    "while True:\n",
    "    try:\n",
    "        ålder = float(input(\"hur gammal är du?\"))\n",
    "        # detta löser ett lågiskt fel\n",
    "        assert ålder >= 0 and ålder < 125, \"din ålder ska vara mellan 0 och 125\"\n",
    "        break # hoppar ut från while-satsen\n",
    "    except AssertionError as msg:\n",
    "        print(msg)\n",
    "    except:\n",
    "        print(\"ålder ska vara ett tal och inget sträng\")\n",
    "\n",
    "\n",
    "if ålder >= 18:\n",
    "    print(\"du är vuxen\")\n",
    "else:\n",
    "    print(\"du är barn\")"
   ]
  },
  {
   "source": [
    "# låt användaren mata in ett antal tal\n",
    "# skriv ut största talet\n",
    "# skriv ut minsta talet\n"
   ],
   "cell_type": "markdown",
   "metadata": {}
  },
  {
   "cell_type": "code",
   "execution_count": 2,
   "metadata": {},
   "outputs": [
    {
     "output_type": "stream",
     "name": "stdout",
     "text": [
      "största talet är 5 minsta talet är   \n['3', '4', '55']\n"
     ]
    }
   ],
   "source": [
    "#max([1, 2, 3])\n",
    "#min([1, 2, 3])\n",
    "\n",
    "tal_str = input(\"skriv in ett antal tal med mellanrum imellan: \")\n",
    "lista_str = tal_str.split() # split ger oss lista, splittar där vi har mellanslag\n",
    "#här kan man lägga while_sats för att fråga användaren igen, \n",
    "try: \n",
    "    # lista av flytt tal\n",
    "    tal_lista = [float() for s in lista_str]\n",
    "    # har man ex ange 3 tal ---> använda assert för att säkertställa \n",
    "    störst = max(tal_str)\n",
    "    minst = min(tal_str)\n",
    "    print(f\"största talet är {störst} minsta talet är {minst} \")\n",
    "except:\n",
    "    print(\"felaktiga tal\")\n",
    "\n",
    "print(lista_str)\n"
   ]
  }
 ]
}