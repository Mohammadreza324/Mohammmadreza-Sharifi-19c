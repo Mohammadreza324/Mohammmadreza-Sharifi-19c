{
 "metadata": {
  "language_info": {
   "codemirror_mode": {
    "name": "ipython",
    "version": 3
   },
   "file_extension": ".py",
   "mimetype": "text/x-python",
   "name": "python",
   "nbconvert_exporter": "python",
   "pygments_lexer": "ipython3",
   "version": "3.8.3-final"
  },
  "orig_nbformat": 2,
  "kernelspec": {
   "name": "python3",
   "display_name": "Python 3.8.3 64-bit (conda)",
   "metadata": {
    "interpreter": {
     "hash": "8bbdb1c6622f4f48f0cd04453d2c23045bd261adfd4daca33eb67cc58c541c18"
    }
   }
  }
 },
 "nbformat": 4,
 "nbformat_minor": 2,
 "cells": [
  {
   "source": [
    "# uppg 1"
   ],
   "cell_type": "markdown",
   "metadata": {}
  },
  {
   "cell_type": "code",
   "execution_count": 98,
   "metadata": {},
   "outputs": [],
   "source": [
    "import random \n",
    "b=0\n",
    "lista =[]\n",
    "with open(\"diceRoll.txt\", \"w\") as f1:\n",
    "    for x in range(10):\n",
    "        t = random.randint(1,6)\n",
    "        lista.append(t)\n",
    "\n",
    "        if t == 5:\n",
    "            b+=1\n",
    "    \n",
    "    f1.write(f\"{lista} \\n\")\n",
    "    f1.write(f\"antal femmor: {b}\")        "
   ]
  },
  {
   "source": [
    "# uppg 2"
   ],
   "cell_type": "markdown",
   "metadata": {}
  },
  {
   "source": [
    "lista = []\n",
    "with open(\"provresultat.txt\", \"r\") as f2:\n",
    "    for rad in f2:\n",
    "        forsta = str(rad[0])\n",
    "        lista.append(rad)\n",
    "        lista.sort()\n",
    "for l in lista:\n",
    "    print(l)"
   ],
   "cell_type": "code",
   "metadata": {},
   "execution_count": 11,
   "outputs": [
    {
     "output_type": "stream",
     "name": "stdout",
     "text": [
      "Adam Gustafsson 25\n\nBjÃ¶rn BjÃ¶rnsson 39\n\nBose Bosseson 32\n\nElla Ester 41\n\nEmil Johansson 23\n\nEmma Boden 32\n\nErik Eriksson 31\n\nFredrika Ulven 10\nGore Bord 55\n\nHanna Karlsson 23 \n\nHÃ¥kan HÃ¥kanson 24\n\nIda HÃ¥kansson 23\n\nJakob Kallander 65\n\nJohan Johansson 42\n\nJonas Jonasson 31\n\nKarl Karlsson 32\n\nOve Karlsten 41\n\nSven Erik Karlsson 13\n\nSven Erik Lundin 39\n\n"
     ]
    }
   ]
  },
  {
   "cell_type": "code",
   "execution_count": 97,
   "metadata": {},
   "outputs": [],
   "source": [
    "\n",
    "betyg = [[\"f\"], [\"e\"], [\"d\"], [\"c\"], [\"b\"], [\"a\"]]\n",
    "with open(\"provresultat.txt\", \"r\") as f2:\n",
    "    for rad in f2:\n",
    "        rad = rad.strip(\" \\n\")\n",
    "        poang = int(rad[-3:])\n",
    "        if poang < 20:\n",
    "            betyg[0].append(rad)\n",
    "        elif poang > 20 and poang < 29:\n",
    "            betyg[1].append(rad)\n",
    "        elif poang > 30 and poang < 39:\n",
    "            betyg[2].append(rad)\n",
    "        elif poang > 40 and poang < 49:\n",
    "            betyg[3].append(rad)\n",
    "        elif poang > 50 and poang < 59:\n",
    "            betyg[4].append(rad)\n",
    "        elif poang > 60 and poang < 70:\n",
    "            betyg[5].append(rad)\n",
    "            \n",
    "with open(\"provresultat2.txt\", \"w\") as f3:\n",
    "    for l in betyg:\n",
    "        f3.write(f\"\\n\")\n",
    "        for x in l:\n",
    "            f3.write(f\"{x} \\n\")\n",
    "\n"
   ]
  },
  {
   "source": [
    "# uppg 3"
   ],
   "cell_type": "markdown",
   "metadata": {}
  },
  {
   "cell_type": "code",
   "execution_count": 24,
   "metadata": {},
   "outputs": [
    {
     "output_type": "error",
     "ename": "AttributeError",
     "evalue": "'list' object has no attribute 'split'",
     "traceback": [
      "\u001b[1;31m---------------------------------------------------------------------------\u001b[0m",
      "\u001b[1;31mAttributeError\u001b[0m                            Traceback (most recent call last)",
      "\u001b[1;32m<ipython-input-24-800dd10a8ef4>\u001b[0m in \u001b[0;36m<module>\u001b[1;34m\u001b[0m\n\u001b[0;32m     13\u001b[0m \u001b[0mlista_namn\u001b[0m\u001b[1;33m=\u001b[0m \u001b[1;33m[\u001b[0m\u001b[1;33m]\u001b[0m\u001b[1;33m\u001b[0m\u001b[1;33m\u001b[0m\u001b[0m\n\u001b[0;32m     14\u001b[0m \u001b[0mlista_procent\u001b[0m\u001b[1;33m=\u001b[0m \u001b[1;33m[\u001b[0m\u001b[1;33m]\u001b[0m\u001b[1;33m\u001b[0m\u001b[1;33m\u001b[0m\u001b[0m\n\u001b[1;32m---> 15\u001b[1;33m \u001b[0mlista_namn\u001b[0m\u001b[1;33m.\u001b[0m\u001b[0msplit\u001b[0m\u001b[1;33m(\u001b[0m\u001b[1;34m\",\"\u001b[0m\u001b[1;33m)\u001b[0m\u001b[1;33m\u001b[0m\u001b[1;33m\u001b[0m\u001b[0m\n\u001b[0m\u001b[0;32m     16\u001b[0m \u001b[0mlista_procent\u001b[0m\u001b[1;33m.\u001b[0m\u001b[0msplit\u001b[0m\u001b[1;33m(\u001b[0m\u001b[1;34m\",\"\u001b[0m\u001b[1;33m)\u001b[0m\u001b[1;33m\u001b[0m\u001b[1;33m\u001b[0m\u001b[0m\n\u001b[0;32m     17\u001b[0m \u001b[0mlabel\u001b[0m \u001b[1;33m=\u001b[0m \u001b[1;33m[\u001b[0m\u001b[0mint\u001b[0m\u001b[1;33m(\u001b[0m\u001b[0mx\u001b[0m\u001b[1;33m)\u001b[0m \u001b[1;32mfor\u001b[0m \u001b[0mx\u001b[0m \u001b[1;32min\u001b[0m \u001b[0mlista_procent\u001b[0m\u001b[1;33m]\u001b[0m\u001b[1;33m\u001b[0m\u001b[1;33m\u001b[0m\u001b[0m\n",
      "\u001b[1;31mAttributeError\u001b[0m: 'list' object has no attribute 'split'"
     ]
    }
   ],
   "source": [
    "import matplotlib.pyplot as plt\n",
    "lista_namn= []\n",
    "lista_procent= []\n",
    "label = [int(x) for x in lista_procent]\n",
    "listor = [str(l) for l in lista_namn]\n",
    "with open(\"NPvt19Ma2C.txt\", \"r\") as f, open(\"NPvt19Ma2A.txt\", \"r\") as f1:\n",
    "    for rad in f:\n",
    "        rad = rad.strip(\" \\n\")\n",
    "        namn = rad[0:1]\n",
    "        lista_namn.append(namn)\n",
    "        procent = rad[2:-1]\n",
    "        lista_procent.append(procent)\n",
    "lista_namn= []\n",
    "lista_procent= []\n",
    "lista_namn.split(\",\")\n",
    "lista_procent.split(\",\")\n",
    "label = [int(x) for x in lista_procent]\n",
    "listor = [str(l) for l in lista_namn]\n",
    "print(label)\n",
    "print(listor)\n",
    "plt.pie(listor, labels=label)\n",
    "plt.title(\"NP_MA2C\")\n",
    "plt.show()"
   ]
  },
  {
   "source": [
    "# uppg 4"
   ],
   "cell_type": "markdown",
   "metadata": {}
  },
  {
   "cell_type": "code",
   "execution_count": 18,
   "metadata": {},
   "outputs": [],
   "source": [
    "import random\n",
    "ettor = 0\n",
    "tvåor = 0\n",
    "treor = 0\n",
    "fyror = 0\n",
    "femmor = 0\n",
    "sexor = 0\n",
    "with open(\"simulering.txt\", \"w\") as f:\n",
    "    lista = [10, 100, 1000]\n",
    "    for l in lista:\n",
    "        for x in range(l):\n",
    "            t = random.randint(1,6)\n",
    "            if t == 1:\n",
    "                ettor+=1\n",
    "            elif t == 2:\n",
    "                tvåor+=1\n",
    "            elif t == 3:\n",
    "                treor+=1\n",
    "            elif t == 4:\n",
    "                fyror+=1\n",
    "            elif t == 5:\n",
    "                femmor+=1\n",
    "            elif t == 6:\n",
    "                sexor+=1\n",
    "        f.write(f\"antal tärningkast: {l} \\n\")\n",
    "        f.write(f\"ettor: {ettor}, sannolikhet {ettor / l} \\n\")\n",
    "        f.write(f\"tvåor: {tvåor}, sannolikhet {tvåor / l} \\n\")\n",
    "        f.write(f\"treor: {treor}, sannolikhet {treor / l} \\n\")\n",
    "        f.write(f\"fyror: {fyror}, sannolikhet {fyror / l} \\n\")\n",
    "        f.write(f\"femmor: {femmor}, sannolikhet {femmor / l} \\n\")\n",
    "        f.write(f\"sexor: {sexor}, sannolikhet {sexor / l} \\n\\n\")"
   ]
  },
  {
   "cell_type": "code",
   "execution_count": null,
   "metadata": {},
   "outputs": [],
   "source": []
  }
 ]
}