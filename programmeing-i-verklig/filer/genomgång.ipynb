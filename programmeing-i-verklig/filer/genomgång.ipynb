{
 "metadata": {
  "language_info": {
   "codemirror_mode": {
    "name": "ipython",
    "version": 3
   },
   "file_extension": ".py",
   "mimetype": "text/x-python",
   "name": "python",
   "nbconvert_exporter": "python",
   "pygments_lexer": "ipython3",
   "version": "3.8.3-final"
  },
  "orig_nbformat": 2,
  "kernelspec": {
   "name": "python3",
   "display_name": "Python 3.8.3 64-bit (conda)",
   "metadata": {
    "interpreter": {
     "hash": "8bbdb1c6622f4f48f0cd04453d2c23045bd261adfd4daca33eb67cc58c541c18"
    }
   }
  }
 },
 "nbformat": 4,
 "nbformat_minor": 2,
 "cells": [
  {
   "cell_type": "code",
   "execution_count": 6,
   "metadata": {},
   "outputs": [
    {
     "output_type": "stream",
     "name": "stdout",
     "text": [
      "Isaac Newton 1643-01-04\nGallileo Gallilei 1564-02-15\nLeonhard Euler 1707-04-15\nAlbert Einstein 1879-03-14\nCarl Friedrich Gauss 1799-04-30\nStephen Hawking 1942-01-08\n"
     ]
    }
   ],
   "source": [
    "with open(\"stora forskare.txt\", \"r\") as f1:\n",
    "    for rad in f1:\n",
    "        rad = rad.strip(\" \\n\")\n",
    "        print(rad) "
   ]
  },
  {
   "cell_type": "code",
   "execution_count": 1,
   "metadata": {},
   "outputs": [
    {
     "output_type": "stream",
     "name": "stdout",
     "text": [
      "['Isaac Newton', 'Gallileo Gallilei', 'Leonhard Euler', 'Carl Friedrich Gauss']\n"
     ]
    }
   ],
   "source": [
    "före1800 = []\n",
    "with open(\"stora forskare.txt\", \"r\") as f1:\n",
    "    for rad in f1:\n",
    "        #tar bort blansteg och radbrytning i början och sluter av varje rad \n",
    "        rad = rad.strip(\" \\n\")\n",
    "        #plocka ut året och omvandla det till int\n",
    "        år = int(rad[-10:-6])\n",
    "        #checka om året < 1800, lägg till en lista\n",
    "        if år < 1800:\n",
    "            före1800.append(rad[0:-11])\n",
    "print(före1800)"
   ]
  },
  {
   "cell_type": "code",
   "execution_count": null,
   "metadata": {},
   "outputs": [],
   "source": [
    "with open(\"stora forskare.txt\", \"r\") as f1, open(\"stora forskare2.txt\", \"w\")as f2:\n",
    "    for rad in f1:\n",
    "        rad = rad.strip(\" \")\n",
    "        f2.write(rad)\n",
    "#när man klickar kör så kommer programmet att oppna en ny stora forskare2.txt som har (Andrew Wiles 1953-04-11) i slutet plus de gamla\n",
    "f2.write (\"Andrew Wiles 1953-04-11\\n\")\n"
   ]
  },
  {
   "cell_type": "code",
   "execution_count": 4,
   "metadata": {},
   "outputs": [],
   "source": [
    "with open(\"Stora forskare 2.txt\", \"w\") as f1:\n",
    "    f1.write(\"Marie Curie 1876-11-9\")"
   ]
  },
  {
   "cell_type": "code",
   "execution_count": null,
   "metadata": {},
   "outputs": [],
   "source": [
    "with open(\"Stora forskare 2.txt\", \"a\") as f1: # a står då för append \n",
    "    f1.write(\"mohammad 1876-11-9\")"
   ]
  }
 ]
}