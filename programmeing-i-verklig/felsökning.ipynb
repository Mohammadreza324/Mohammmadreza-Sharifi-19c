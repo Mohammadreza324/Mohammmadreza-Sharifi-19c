{
 "metadata": {
  "language_info": {
   "codemirror_mode": {
    "name": "ipython",
    "version": 3
   },
   "file_extension": ".py",
   "mimetype": "text/x-python",
   "name": "python",
   "nbconvert_exporter": "python",
   "pygments_lexer": "ipython3",
   "version": "3.8.3-final"
  },
  "orig_nbformat": 2,
  "kernelspec": {
   "name": "python3",
   "display_name": "Python 3",
   "language": "python"
  }
 },
 "nbformat": 4,
 "nbformat_minor": 2,
 "cells": [
  {
   "cell_type": "code",
   "execution_count": 2,
   "metadata": {},
   "outputs": [
    {
     "output_type": "stream",
     "name": "stdout",
     "text": [
      "0.7071067811865476\n"
     ]
    }
   ],
   "source": [
    "import numpy as np\n",
    "def distanse(p1, p2):\n",
    "    return np.sqrt(p1**2 + p2**2)\n",
    "print(distanse(0.5 , 0.5)) # inte använda lista"
   ]
  },
  {
   "cell_type": "code",
   "execution_count": 16,
   "metadata": {},
   "outputs": [
    {
     "output_type": "stream",
     "name": "stdout",
     "text": [
      "100 är inte fyrsiffrig\n231 är inte fyrsiffrig\n10000 är inte fyrsiffrig\n10001 är inte fyrsiffrig\n-1000 är fyrsiffrigt\n102313 är inte fyrsiffrig\n"
     ]
    }
   ],
   "source": [
    "\n",
    "def fyrsifrigtal(tal):\n",
    "    if tal//1000 < 10 and tal//1000 > 1 :\n",
    "        return True\n",
    "    elif tal//1000 > -10 and tal//1000 < 0:\n",
    "        return True\n",
    "    else:\n",
    "        return False\n",
    "\n",
    "testtal = [100, 231, 10000, 10001, -1000, 102313]\n",
    "\n",
    "for t in testtal:\n",
    "    if fyrsifrigtal(t):\n",
    "        print(f\"{t} är fyrsiffrigt\")\n",
    "    else:\n",
    "        print(f\"{t} är inte fyrsiffrig\")"
   ]
  },
  {
   "cell_type": "code",
   "execution_count": 10,
   "metadata": {
    "tags": []
   },
   "outputs": [
    {
     "output_type": "stream",
     "name": "stdout",
     "text": [
      "antal reasor ska vara större än 0 och mindre än 60 st\n",
      "svara med positiva heltal\n",
      "svara på frågorna med heltal och inte strängar!\n",
      "svara på frågorna med heltal och inte strängar!\n",
      "svara på frågorna med heltal och inte strängar!\n",
      "svara på frågorna med heltal och inte strängar!\n",
      "svara på frågorna med heltal och inte strängar!\n",
      "svara på frågorna med heltal och inte strängar!\n",
      "svara på frågorna med heltal och inte strängar!\n",
      "Det är värt med månadskort\n"
     ]
    }
   ],
   "source": [
    "while True:\n",
    "    try:\n",
    "        antal = int(input(\"hur många gåner resor du per månaden?\"))\n",
    "        assert antal > 0 and antal < 60 , \"antal reasor ska vara större än 0 och mindre än 60 st\"\n",
    "        kostnadperresa = float(input(\"vad kostar en resa?\"))\n",
    "        assert kostnadperresa > 0, \"svara med positiva heltal\"\n",
    "        månadskort = float(input(\"vad kostar en månadskort?\"))\n",
    "        assert månadskort > 0, \"svara med positiva heltal\"\n",
    "        kostnad_månad = antal * kostnadperresa\n",
    "        \n",
    "        #assert kostnadperresa < 150 and kostnafperresa > 0, \"kostanden för varje resa ska vara mellan 0 och 150 kr\"\n",
    "        #5 5 assert månadskort < 2000 and månadskort > 0, \"priset för månads kort ska vara mellan 0 och 2000 kr\"\n",
    "        \n",
    "        break\n",
    "    except AssertionError as msg:\n",
    "        print(msg)\n",
    "    except:\n",
    "        print(\"svara på frågorna med heltal och inte strängar!\")\n",
    "\n",
    "\n",
    "\n",
    "if kostnad_månad < månadskort:\n",
    "    print(\"Du behöver inte månadskort\")\n",
    "else:\n",
    "    print(\"Det är värt med månadskort\")"
   ]
  },
  {
   "cell_type": "code",
   "execution_count": 2,
   "metadata": {
    "tags": []
   },
   "outputs": [
    {
     "output_type": "stream",
     "name": "stdout",
     "text": [
      "största talet är 5 och minsta talet är  \nmedel värdet är 3.0\n"
     ]
    }
   ],
   "source": [
    "#Oops ====>  kör inte denna, man hamnar i öändligt loop :)\n",
    "while True:\n",
    "    try:\n",
    "        mataintal = input(\"mata in fem tal med mellanslag: \")\n",
    "        tal = mataintal.split()\n",
    "        siffror = [int(x) for x in tal]\n",
    "        antal = len(siffror)\n",
    "        \n",
    "        assert antal > 0 and antal < 6, \"mata in mellan 0 och 5 antal sifror\"\n",
    "        break\n",
    "    except AssertionError as msg:\n",
    "        print(msg)\n",
    "    except:\n",
    "        print(\"mata in bara siffror och inte strängar. tack!\")\n",
    "\n",
    "störst = max(mataintal)\n",
    "minst = min(mataintal)\n",
    "print(f\"största talet är {störst} och minsta talet är {minst}\")\n",
    "\n",
    "\n",
    "medelvärde = (siffror[0]+siffror[1]+siffror[2]+siffror[3]+siffror[4])/5\n",
    "\n",
    "print(f\"medel värdet är {medelvärde}\")\n",
    "\n"
   ]
  },
  {
   "cell_type": "code",
   "execution_count": 1,
   "metadata": {},
   "outputs": [
    {
     "output_type": "stream",
     "name": "stdout",
     "text": [
      "['1', '2', '3', '4', '5']\n5\n15\n"
     ]
    }
   ],
   "source": [
    "mataintal = input(\"mata in fem tal med mellanslag: \")\n",
    "tal = mataintal.split()\n",
    "antal = len(tal)\n",
    "siffror = [int(x) for x in tal]\n",
    "\n",
    "medelvärde = siffror[0]+siffror[1]+siffror[2]+siffror[3]+siffror[4]\n",
    "\n",
    "print (tal)\n",
    "print (antal)\n",
    "print(medelvärde)"
   ]
  },
  {
   "cell_type": "code",
   "execution_count": null,
   "metadata": {},
   "outputs": [],
   "source": [
    "mataintal = input(\"mata in fem tal med mellanslag: \")\n",
    "tal = mataintal.split()\n",
    "tal = [int(x) for x in tal]\n",
    "antal = len(tal)\n",
    "\n",
    "medelvärde = tal[0]+tal[1]+tal[2]+tal[3]+tal[4]\n",
    "print(tal)\n",
    "#print(antal)\n",
    "print(medelvärde)"
   ]
  },
  {
   "cell_type": "code",
   "execution_count": 8,
   "metadata": {},
   "outputs": [
    {
     "output_type": "stream",
     "name": "stdout",
     "text": [
      "[5, 2, 3, 4]\n14\n"
     ]
    }
   ],
   "source": [
    "lista =[\"5\", \"2\", \"3\", \"4\"]\n",
    "tal = [int(x) for x in lista]\n",
    "medelvärde = tal[0]+tal[1]+tal[2]+tal[3]\n",
    "print (tal)\n",
    "print(medelvärde)"
   ]
  },
  {
   "cell_type": "code",
   "execution_count": 19,
   "metadata": {},
   "outputs": [],
   "source": [
    "antal = 1\n",
    "assert antal > 0 and antal < 5, \"mata in mellan 0 och 5 antal sifror\""
   ]
  },
  {
   "cell_type": "code",
   "execution_count": null,
   "metadata": {},
   "outputs": [],
   "source": []
  }
 ]
}