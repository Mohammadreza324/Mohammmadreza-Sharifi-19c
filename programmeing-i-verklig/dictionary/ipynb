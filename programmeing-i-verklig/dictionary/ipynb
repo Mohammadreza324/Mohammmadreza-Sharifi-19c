{
 "metadata": {
  "language_info": {
   "codemirror_mode": {
    "name": "ipython",
    "version": 3
   },
   "file_extension": ".py",
   "mimetype": "text/x-python",
   "name": "python",
   "nbconvert_exporter": "python",
   "pygments_lexer": "ipython3",
   "version": "3.8.3-final"
  },
  "orig_nbformat": 2,
  "kernelspec": {
   "name": "python3",
   "display_name": "Python 3.8.3 64-bit (conda)",
   "metadata": {
    "interpreter": {
     "hash": "8bbdb1c6622f4f48f0cd04453d2c23045bd261adfd4daca33eb67cc58c541c18"
    }
   }
  }
 },
 "nbformat": 4,
 "nbformat_minor": 2,
 "cells": [
  {
   "source": [
    "# uppg 2"
   ],
   "cell_type": "markdown",
   "metadata": {}
  },
  {
   "cell_type": "code",
   "execution_count": 8,
   "metadata": {},
   "outputs": [
    {
     "output_type": "stream",
     "name": "stdout",
     "text": [
      "Frekvenstabell\n1: 16708\n2: 16423\n3: 16777\n4: 16640\n5: 16681\n6: 16771\n"
     ]
    }
   ],
   "source": [
    "import random as rnd\n",
    "a = 0\n",
    "b = 0\n",
    "c = 0\n",
    "d = 0\n",
    "e = 0\n",
    "f = 0\n",
    "\n",
    "for x in range(100000):\n",
    "    kast = rnd.randint(1,6)\n",
    "    if kast == 1:\n",
    "        a += 1\n",
    "    elif kast == 2:\n",
    "        b += 1\n",
    "    elif kast == 3:\n",
    "        c += 1\n",
    "    elif kast == 4:\n",
    "        d += 1\n",
    "    elif kast == 5:\n",
    "        e += 1\n",
    "    elif kast == 6:\n",
    "        f +=1\n",
    "print (\"Frekvenstabell\")\n",
    "print(f\"1: {a}\")\n",
    "print(f\"2: {b}\")\n",
    "print(f\"3: {c}\")\n",
    "print(f\"4: {d}\")\n",
    "print(f\"5: {e}\")\n",
    "print(f\"6: {f}\")"
   ]
  },
  {
   "source": [
    "# uppg 3"
   ],
   "cell_type": "markdown",
   "metadata": {}
  },
  {
   "cell_type": "code",
   "execution_count": null,
   "metadata": {},
   "outputs": [],
   "source": []
  },
  {
   "source": [
    "# uppg 4"
   ],
   "cell_type": "markdown",
   "metadata": {}
  },
  {
   "cell_type": "code",
   "execution_count": null,
   "metadata": {},
   "outputs": [],
   "source": []
  }
 ]
}