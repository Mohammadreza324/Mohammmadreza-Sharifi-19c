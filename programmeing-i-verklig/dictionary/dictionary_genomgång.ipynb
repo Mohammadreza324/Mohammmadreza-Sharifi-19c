{
 "metadata": {
  "language_info": {
   "codemirror_mode": {
    "name": "ipython",
    "version": 3
   },
   "file_extension": ".py",
   "mimetype": "text/x-python",
   "name": "python",
   "nbconvert_exporter": "python",
   "pygments_lexer": "ipython3",
   "version": "3.8.3-final"
  },
  "orig_nbformat": 2,
  "kernelspec": {
   "name": "python3",
   "display_name": "Python 3.8.3 64-bit (conda)",
   "metadata": {
    "interpreter": {
     "hash": "8bbdb1c6622f4f48f0cd04453d2c23045bd261adfd4daca33eb67cc58c541c18"
    }
   }
  }
 },
 "nbformat": 4,
 "nbformat_minor": 2,
 "cells": [
  {
   "cell_type": "code",
   "execution_count": 12,
   "metadata": {},
   "outputs": [
    {
     "output_type": "stream",
     "name": "stdout",
     "text": [
      "namn\treza\nålder\t18\nyrke\tstudent\nskola\tNTI\n\n\nnamn \t reza\nålder \t 18\nyrke \t student\nskola \t NTI\n"
     ]
    }
   ],
   "source": [
    "# syntax för dictionary\n",
    "person = dict(\n",
    "    namn = \"reza\",\n",
    "    ålder = \"18\",\n",
    "    yrke = \"student\",\n",
    "    skola = \"NTI\",  \n",
    ")\n",
    "\n",
    "# ett sätt\n",
    "for key in person:\n",
    "    print(f\"{key}\\t{person[key]}\")\n",
    "\n",
    "print(\"\\n\")\n",
    "\n",
    "#andra sätt\n",
    "for key, value in person.items():\n",
    "    print(f\"{key} \\t {value}\")"
   ]
  },
  {
   "cell_type": "code",
   "execution_count": 2,
   "metadata": {},
   "outputs": [
    {
     "output_type": "error",
     "ename": "SyntaxError",
     "evalue": "invalid syntax (<ipython-input-2-92beb3e1d5f1>, line 7)",
     "traceback": [
      "\u001b[1;36m  File \u001b[1;32m\"<ipython-input-2-92beb3e1d5f1>\"\u001b[1;36m, line \u001b[1;32m7\u001b[0m\n\u001b[1;33m    person[\"efternamn\"] : \"sharifi\",\u001b[0m\n\u001b[1;37m                                   ^\u001b[0m\n\u001b[1;31mSyntaxError\u001b[0m\u001b[1;31m:\u001b[0m invalid syntax\n"
     ]
    }
   ],
   "source": [
    "person ={\n",
    "    \"namn\": \"reza\",\n",
    "    \"ålder\": 18,\n",
    "    \"yrke\": False,\n",
    "    \"skola\": [\"NTI\", \"da vinci\"]\n",
    "}\n",
    "person[\"efternamn\"] : \"sharifi\",\n",
    "print(person[\"efternamn\"])\n"
   ]
  },
  {
   "cell_type": "code",
   "execution_count": 8,
   "metadata": {},
   "outputs": [
    {
     "output_type": "stream",
     "name": "stdout",
     "text": [
      "{'1': 5, '2': 9, '3': 10, '4': 1, '5': 6, '6': 1, '7': 9, '8': 1, '9': 10, '10': 1}\n{'1': 7, '2': 4, '3': 9, '4': 3, '5': 2, '6': 9, '7': 6, '8': 8, '9': 1, '10': 1}\n{'1': 8, '2': 2, '3': 4, '4': 6, '5': 6, '6': 7, '7': 2, '8': 6, '9': 10, '10': 9}\n{'1': 5, '2': 5, '3': 2, '4': 7, '5': 1, '6': 1, '7': 6, '8': 1, '9': 5, '10': 8}\n{'1': 7, '2': 7, '3': 5, '4': 5, '5': 6, '6': 4, '7': 7, '8': 1, '9': 10, '10': 3}\n{'1': 3, '2': 6, '3': 5, '4': 8, '5': 6, '6': 7, '7': 3, '8': 6, '9': 7, '10': 9}\n{'1': 10, '2': 1, '3': 10, '4': 2, '5': 5, '6': 6, '7': 6, '8': 8, '9': 5, '10': 4}\n{'1': 1, '2': 5, '3': 5, '4': 9, '5': 3, '6': 9, '7': 9, '8': 6, '9': 8, '10': 7}\n{'1': 4, '2': 2, '3': 8, '4': 1, '5': 7, '6': 5, '7': 3, '8': 1, '9': 8, '10': 5}\n{'1': 2, '2': 5, '3': 3, '4': 7, '5': 6, '6': 8, '7': 8, '8': 4, '9': 3, '10': 4}\n"
     ]
    }
   ],
   "source": [
    "# for-sats \n",
    "import random as rnd\n",
    "siffror = {}\n",
    "for l in range(10):\n",
    "    for i in range(1,11):\n",
    "        slumptal = rnd.randint(1,10)\n",
    "        siffror[f\"{i}\"] = slumptal\n",
    "\n",
    "    print(siffror)"
   ]
  },
  {
   "cell_type": "code",
   "execution_count": null,
   "metadata": {},
   "outputs": [],
   "source": []
  }
 ]
}