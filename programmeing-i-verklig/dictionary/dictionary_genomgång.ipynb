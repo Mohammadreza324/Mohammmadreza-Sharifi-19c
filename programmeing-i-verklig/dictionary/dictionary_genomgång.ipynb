{
 "metadata": {
  "language_info": {
   "codemirror_mode": {
    "name": "ipython",
    "version": 3
   },
   "file_extension": ".py",
   "mimetype": "text/x-python",
   "name": "python",
   "nbconvert_exporter": "python",
   "pygments_lexer": "ipython3",
   "version": "3.8.3-final"
  },
  "orig_nbformat": 2,
  "kernelspec": {
   "name": "python3",
   "display_name": "Python 3.8.3 64-bit (conda)",
   "metadata": {
    "interpreter": {
     "hash": "8bbdb1c6622f4f48f0cd04453d2c23045bd261adfd4daca33eb67cc58c541c18"
    }
   }
  }
 },
 "nbformat": 4,
 "nbformat_minor": 2,
 "cells": [
  {
   "cell_type": "code",
   "execution_count": 12,
   "metadata": {},
   "outputs": [
    {
     "output_type": "stream",
     "name": "stdout",
     "text": [
      "namn\treza\nålder\t18\nyrke\tstudent\nskola\tNTI\n\n\nnamn \t reza\nålder \t 18\nyrke \t student\nskola \t NTI\n"
     ]
    }
   ],
   "source": [
    "# syntax för dictionary\n",
    "person = dict(\n",
    "    namn = \"reza\",\n",
    "    ålder = \"18\",\n",
    "    yrke = \"student\",\n",
    "    skola = \"NTI\",  \n",
    ")\n",
    "\n",
    "# ett sätt\n",
    "for key in person:\n",
    "    print(f\"{key}\\t{person[key]}\")\n",
    "\n",
    "print(\"\\n\")\n",
    "\n",
    "#andra sätt\n",
    "for key, value in person.items():\n",
    "    print(f\"{key} \\t {value}\")"
   ]
  },
  {
   "cell_type": "code",
   "execution_count": 19,
   "metadata": {},
   "outputs": [
    {
     "output_type": "stream",
     "name": "stdout",
     "text": [
      "NTI\n"
     ]
    }
   ],
   "source": [
    "person = {\n",
    "    \"namn\": \"reza\",\n",
    "    \"ålder\": 18,\n",
    "    \"yrke\": False,\n",
    "    \"skola\": [\"NTI\", \"da vinci\"]\n",
    "}\n",
    "print(person[\"skola\"][0])\n"
   ]
  },
  {
   "cell_type": "code",
   "execution_count": null,
   "metadata": {},
   "outputs": [],
   "source": []
  }
 ]
}